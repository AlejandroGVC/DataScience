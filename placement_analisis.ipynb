{
 "cells": [
  {
   "cell_type": "markdown",
   "metadata": {},
   "source": [
    "### Dataset: Factors affecting campus placement\n",
    "\n",
    "Preguntas: \n",
    "1. Qué factor afecta que los alumnos encuentren trabajo al terminar los estudios?\n",
    "2. Es importante la nota para encontrar trabajo?\n",
    "3. Que especializacion es más demanda por las empresas?\n",
    "4. Qué tan importante es la experiencia para encontrar trabajo?\n",
    "5. Qué factores afectan el salario? \n",
    "\n",
    "Analisis propuesto:\n",
    "1. Predicción de si un alumno va a obtener o no una oferta de trabajo\n",
    "2. Predicción del salario estimado\n"
   ]
  },
  {
   "cell_type": "markdown",
   "metadata": {},
   "source": [
    "variables del dataset: \n",
    "- sl_no : serial number \n",
    "- gender: genero (cualitativa)\n",
    "- ssc_p : secondary education percentage (cuantitativa)\n",
    "- ssc_b : board of secondary education (cualitativa)\n",
    "- hsc_p : high education percentage (cuantitativa)\n",
    "- hsc_b : board of high education (cualitativa)\n",
    "- hsc_s : high education spezialization (cualitativa)\n",
    "- degree_p : degree percentage (cuantitativa)\n",
    "- degree_t : degree type (cualitativa)\n",
    "- workex : working experience (cualitativa)\n",
    "- etest_p: employability test percentage (cuantitativa)\n",
    "- specialization: post degree specialization (cualitativa)\n",
    "- mba_p : mba percentage (cuantitativa)\n",
    "- status: placed / not placed (cualitativa)\n",
    "- salary: salaty offered (cuantitativa)"
   ]
  },
  {
   "cell_type": "markdown",
   "metadata": {
    "id": "FFMHZdoq6p-R"
   },
   "source": [
    "#### Librerias y funciones"
   ]
  },
  {
   "cell_type": "code",
   "execution_count": 1,
   "metadata": {
    "id": "02VO320-eyy7"
   },
   "outputs": [],
   "source": [
    "import pandas as pd\n",
    "import numpy as np\n",
    "import matplotlib.pyplot as plt\n",
    "import seaborn as sns\n",
    "import warnings\n",
    "warnings.filterwarnings(\"ignore\")\n",
    "import printPlots as pp"
   ]
  },
  {
   "cell_type": "markdown",
   "metadata": {
    "id": "uVxuhZ1D5F2q"
   },
   "source": [
    "#### Carga dataset"
   ]
  },
  {
   "cell_type": "code",
   "execution_count": 2,
   "metadata": {
    "id": "W-4BnZ7EYpd4"
   },
   "outputs": [],
   "source": [
    "#kaggle datasets download -d benroshan/factors-affecting-campus-placement -f Placement_Data_Full_Class.csv \n",
    "dataframe=pd.read_csv('Placement_Data_Full_Class.csv')\n",
    "dataframe.drop(labels='sl_no', axis=1, inplace=True) "
   ]
  },
  {
   "cell_type": "markdown",
   "metadata": {
    "id": "yG7EmDJx6yiP"
   },
   "source": [
    "### Analisis Exploratorio"
   ]
  },
  {
   "cell_type": "code",
   "execution_count": 3,
   "metadata": {},
   "outputs": [
    {
     "data": {
      "text/html": [
       "<div>\n",
       "<style scoped>\n",
       "    .dataframe tbody tr th:only-of-type {\n",
       "        vertical-align: middle;\n",
       "    }\n",
       "\n",
       "    .dataframe tbody tr th {\n",
       "        vertical-align: top;\n",
       "    }\n",
       "\n",
       "    .dataframe thead th {\n",
       "        text-align: right;\n",
       "    }\n",
       "</style>\n",
       "<table border=\"1\" class=\"dataframe\">\n",
       "  <thead>\n",
       "    <tr style=\"text-align: right;\">\n",
       "      <th></th>\n",
       "      <th>gender</th>\n",
       "      <th>ssc_p</th>\n",
       "      <th>ssc_b</th>\n",
       "      <th>hsc_p</th>\n",
       "      <th>hsc_b</th>\n",
       "      <th>hsc_s</th>\n",
       "      <th>degree_p</th>\n",
       "      <th>degree_t</th>\n",
       "      <th>workex</th>\n",
       "      <th>etest_p</th>\n",
       "      <th>specialisation</th>\n",
       "      <th>mba_p</th>\n",
       "      <th>status</th>\n",
       "      <th>salary</th>\n",
       "    </tr>\n",
       "  </thead>\n",
       "  <tbody>\n",
       "    <tr>\n",
       "      <th>0</th>\n",
       "      <td>M</td>\n",
       "      <td>67.00</td>\n",
       "      <td>Others</td>\n",
       "      <td>91.00</td>\n",
       "      <td>Others</td>\n",
       "      <td>Commerce</td>\n",
       "      <td>58.00</td>\n",
       "      <td>Sci&amp;Tech</td>\n",
       "      <td>No</td>\n",
       "      <td>55.0</td>\n",
       "      <td>Mkt&amp;HR</td>\n",
       "      <td>58.80</td>\n",
       "      <td>Placed</td>\n",
       "      <td>270000.0</td>\n",
       "    </tr>\n",
       "    <tr>\n",
       "      <th>1</th>\n",
       "      <td>M</td>\n",
       "      <td>79.33</td>\n",
       "      <td>Central</td>\n",
       "      <td>78.33</td>\n",
       "      <td>Others</td>\n",
       "      <td>Science</td>\n",
       "      <td>77.48</td>\n",
       "      <td>Sci&amp;Tech</td>\n",
       "      <td>Yes</td>\n",
       "      <td>86.5</td>\n",
       "      <td>Mkt&amp;Fin</td>\n",
       "      <td>66.28</td>\n",
       "      <td>Placed</td>\n",
       "      <td>200000.0</td>\n",
       "    </tr>\n",
       "    <tr>\n",
       "      <th>2</th>\n",
       "      <td>M</td>\n",
       "      <td>65.00</td>\n",
       "      <td>Central</td>\n",
       "      <td>68.00</td>\n",
       "      <td>Central</td>\n",
       "      <td>Arts</td>\n",
       "      <td>64.00</td>\n",
       "      <td>Comm&amp;Mgmt</td>\n",
       "      <td>No</td>\n",
       "      <td>75.0</td>\n",
       "      <td>Mkt&amp;Fin</td>\n",
       "      <td>57.80</td>\n",
       "      <td>Placed</td>\n",
       "      <td>250000.0</td>\n",
       "    </tr>\n",
       "    <tr>\n",
       "      <th>3</th>\n",
       "      <td>M</td>\n",
       "      <td>56.00</td>\n",
       "      <td>Central</td>\n",
       "      <td>52.00</td>\n",
       "      <td>Central</td>\n",
       "      <td>Science</td>\n",
       "      <td>52.00</td>\n",
       "      <td>Sci&amp;Tech</td>\n",
       "      <td>No</td>\n",
       "      <td>66.0</td>\n",
       "      <td>Mkt&amp;HR</td>\n",
       "      <td>59.43</td>\n",
       "      <td>Not Placed</td>\n",
       "      <td>NaN</td>\n",
       "    </tr>\n",
       "    <tr>\n",
       "      <th>4</th>\n",
       "      <td>M</td>\n",
       "      <td>85.80</td>\n",
       "      <td>Central</td>\n",
       "      <td>73.60</td>\n",
       "      <td>Central</td>\n",
       "      <td>Commerce</td>\n",
       "      <td>73.30</td>\n",
       "      <td>Comm&amp;Mgmt</td>\n",
       "      <td>No</td>\n",
       "      <td>96.8</td>\n",
       "      <td>Mkt&amp;Fin</td>\n",
       "      <td>55.50</td>\n",
       "      <td>Placed</td>\n",
       "      <td>425000.0</td>\n",
       "    </tr>\n",
       "  </tbody>\n",
       "</table>\n",
       "</div>"
      ],
      "text/plain": [
       "  gender  ssc_p    ssc_b  hsc_p    hsc_b     hsc_s  degree_p   degree_t  \\\n",
       "0      M  67.00   Others  91.00   Others  Commerce     58.00   Sci&Tech   \n",
       "1      M  79.33  Central  78.33   Others   Science     77.48   Sci&Tech   \n",
       "2      M  65.00  Central  68.00  Central      Arts     64.00  Comm&Mgmt   \n",
       "3      M  56.00  Central  52.00  Central   Science     52.00   Sci&Tech   \n",
       "4      M  85.80  Central  73.60  Central  Commerce     73.30  Comm&Mgmt   \n",
       "\n",
       "  workex  etest_p specialisation  mba_p      status    salary  \n",
       "0     No     55.0         Mkt&HR  58.80      Placed  270000.0  \n",
       "1    Yes     86.5        Mkt&Fin  66.28      Placed  200000.0  \n",
       "2     No     75.0        Mkt&Fin  57.80      Placed  250000.0  \n",
       "3     No     66.0         Mkt&HR  59.43  Not Placed       NaN  \n",
       "4     No     96.8        Mkt&Fin  55.50      Placed  425000.0  "
      ]
     },
     "execution_count": 3,
     "metadata": {},
     "output_type": "execute_result"
    }
   ],
   "source": [
    "dataframe.head()"
   ]
  },
  {
   "cell_type": "code",
   "execution_count": 4,
   "metadata": {},
   "outputs": [
    {
     "data": {
      "text/plain": [
       "gender             0\n",
       "ssc_p              0\n",
       "ssc_b              0\n",
       "hsc_p              0\n",
       "hsc_b              0\n",
       "hsc_s              0\n",
       "degree_p           0\n",
       "degree_t           0\n",
       "workex             0\n",
       "etest_p            0\n",
       "specialisation     0\n",
       "mba_p              0\n",
       "status             0\n",
       "salary            67\n",
       "dtype: int64"
      ]
     },
     "execution_count": 4,
     "metadata": {},
     "output_type": "execute_result"
    }
   ],
   "source": [
    "dataframe.isna().sum()"
   ]
  },
  {
   "cell_type": "markdown",
   "metadata": {},
   "source": [
    "*Los 67 Nan se corresponden con los alumnos que no obtuvieron plaza*"
   ]
  },
  {
   "cell_type": "code",
   "execution_count": 5,
   "metadata": {},
   "outputs": [
    {
     "data": {
      "text/plain": [
       "Placed        148\n",
       "Not Placed     67\n",
       "Name: status, dtype: int64"
      ]
     },
     "execution_count": 5,
     "metadata": {},
     "output_type": "execute_result"
    }
   ],
   "source": [
    "dataframe.status.value_counts()"
   ]
  },
  {
   "cell_type": "markdown",
   "metadata": {},
   "source": [
    "*En la poblacion obtuvieron trabajo el doble de los que no*"
   ]
  },
  {
   "cell_type": "code",
   "execution_count": 6,
   "metadata": {},
   "outputs": [
    {
     "data": {
      "text/plain": [
       "count       148.000000\n",
       "mean     288655.405405\n",
       "std       93457.452420\n",
       "min      200000.000000\n",
       "25%      240000.000000\n",
       "50%      265000.000000\n",
       "75%      300000.000000\n",
       "max      940000.000000\n",
       "Name: salary, dtype: float64"
      ]
     },
     "execution_count": 6,
     "metadata": {},
     "output_type": "execute_result"
    }
   ],
   "source": [
    "dataframe.salary.describe()"
   ]
  },
  {
   "cell_type": "code",
   "execution_count": 7,
   "metadata": {},
   "outputs": [
    {
     "data": {
      "image/png": "[encoded data removed]",
      "text/plain": [
       "<Figure size 432x288 with 1 Axes>"
      ]
     },
     "metadata": {
      "needs_background": "light"
     },
     "output_type": "display_data"
    }
   ],
   "source": [
    "sns.kdeplot('salary', data = dataframe); "
   ]
  },
  {
   "cell_type": "markdown",
   "metadata": {},
   "source": [
    "Idea: *Si eliminamos los salarios por encima de 50k podriamos quedarnos con una distribucion normal del salario; de 30k hacia abajo tenemos al 75% de la población*"
   ]
  },
  {
   "cell_type": "markdown",
   "metadata": {},
   "source": [
    "#### ¿Qué variables afectan a la hora de obtener trabajo? ¿Y al salario?"
   ]
  },
  {
   "cell_type": "markdown",
   "metadata": {},
   "source": [
    "**1. Genero**"
   ]
  },
  {
   "cell_type": "code",
   "execution_count": 8,
   "metadata": {},
   "outputs": [
    {
     "data": {
      "text/plain": [
       "M    139\n",
       "F     76\n",
       "Name: gender, dtype: int64"
      ]
     },
     "execution_count": 8,
     "metadata": {},
     "output_type": "execute_result"
    }
   ],
   "source": [
    "dataframe.gender.value_counts()"
   ]
  },
  {
   "cell_type": "code",
   "execution_count": 9,
   "metadata": {},
   "outputs": [
    {
     "data": {
      "image/png": "[encoded data removed]",
      "text/plain": [
       "<Figure size 576x288 with 1 Axes>"
      ]
     },
     "metadata": {
      "needs_background": "light"
     },
     "output_type": "display_data"
    }
   ],
   "source": [
    "pp.print_status('gender', dataframe)"
   ]
  },
  {
   "cell_type": "code",
   "execution_count": 10,
   "metadata": {},
   "outputs": [
    {
     "data": {
      "image/png": "[encoded data removed]",
      "text/plain": [
       "<Figure size 576x288 with 1 Axes>"
      ]
     },
     "metadata": {
      "needs_background": "light"
     },
     "output_type": "display_data"
    }
   ],
   "source": [
    "pp.print_salary('gender', dataframe)"
   ]
  },
  {
   "cell_type": "code",
   "execution_count": 11,
   "metadata": {},
   "outputs": [
    {
     "data": {
      "image/png": "[encoded data removed]",
      "text/plain": [
       "<Figure size 576x288 with 1 Axes>"
      ]
     },
     "metadata": {
      "needs_background": "light"
     },
     "output_type": "display_data"
    }
   ],
   "source": [
    "pp.print_salary_boxplot('gender', dataframe)"
   ]
  },
  {
   "cell_type": "markdown",
   "metadata": {},
   "source": [
    "Conclusiones:\n",
    "   - Hay casi el doble de hombres que de mujeres en el dataset\n",
    "   - En proporcion, los hombres obtienen mas plazas\n",
    "   - El salario en media es superior en hombres y tienen mas outliers con grandes sueldos  "
   ]
  },
  {
   "cell_type": "markdown",
   "metadata": {},
   "source": [
    "**2. Experiencia**"
   ]
  },
  {
   "cell_type": "code",
   "execution_count": 12,
   "metadata": {},
   "outputs": [
    {
     "data": {
      "text/plain": [
       "No     141\n",
       "Yes     74\n",
       "Name: workex, dtype: int64"
      ]
     },
     "execution_count": 12,
     "metadata": {},
     "output_type": "execute_result"
    }
   ],
   "source": [
    "dataframe.workex.value_counts()"
   ]
  },
  {
   "cell_type": "code",
   "execution_count": 13,
   "metadata": {},
   "outputs": [
    {
     "data": {
      "image/png": "[encoded data removed]",
      "text/plain": [
       "<Figure size 576x288 with 1 Axes>"
      ]
     },
     "metadata": {
      "needs_background": "light"
     },
     "output_type": "display_data"
    }
   ],
   "source": [
    "pp.print_status('workex', dataframe)"
   ]
  },
  {
   "cell_type": "code",
   "execution_count": 14,
   "metadata": {},
   "outputs": [
    {
     "data": {
      "image/png": "[encoded data removed]",
      "text/plain": [
       "<Figure size 576x288 with 1 Axes>"
      ]
     },
     "metadata": {
      "needs_background": "light"
     },
     "output_type": "display_data"
    }
   ],
   "source": [
    "pp.print_salary('workex', dataframe)"
   ]
  },
  {
   "cell_type": "code",
   "execution_count": 15,
   "metadata": {},
   "outputs": [
    {
     "data": {
      "image/png": "[encoded data removed]",
      "text/plain": [
       "<Figure size 576x288 with 1 Axes>"
      ]
     },
     "metadata": {
      "needs_background": "light"
     },
     "output_type": "display_data"
    }
   ],
   "source": [
    "pp.print_salary_boxplot('workex', dataframe)"
   ]
  },
  {
   "cell_type": "markdown",
   "metadata": {},
   "source": [
    "Conlusiones:\n",
    "- El doble de alumnos sin experiencia que con ella \n",
    "- Muy pocos alumnos con experencia no obtuvieron plaza\n",
    "- El salario no parece verse afectado"
   ]
  },
  {
   "cell_type": "markdown",
   "metadata": {},
   "source": [
    "**3. Grado (tipo y nota)**"
   ]
  },
  {
   "cell_type": "code",
   "execution_count": 16,
   "metadata": {},
   "outputs": [
    {
     "data": {
      "text/plain": [
       "Comm&Mgmt    145\n",
       "Sci&Tech      59\n",
       "Others        11\n",
       "Name: degree_t, dtype: int64"
      ]
     },
     "execution_count": 16,
     "metadata": {},
     "output_type": "execute_result"
    }
   ],
   "source": [
    "dataframe.degree_t.value_counts()"
   ]
  },
  {
   "cell_type": "code",
   "execution_count": 17,
   "metadata": {},
   "outputs": [
    {
     "data": {
      "image/png": "[encoded data removed]",
      "text/plain": [
       "<Figure size 576x288 with 1 Axes>"
      ]
     },
     "metadata": {
      "needs_background": "light"
     },
     "output_type": "display_data"
    }
   ],
   "source": [
    "pp.print_status('degree_t', dataframe)"
   ]
  },
  {
   "cell_type": "code",
   "execution_count": 18,
   "metadata": {},
   "outputs": [
    {
     "data": {
      "image/png": "[encoded data removed]",
      "text/plain": [
       "<Figure size 576x288 with 1 Axes>"
      ]
     },
     "metadata": {
      "needs_background": "light"
     },
     "output_type": "display_data"
    }
   ],
   "source": [
    "pp.print_salary('degree_t', dataframe)"
   ]
  },
  {
   "cell_type": "code",
   "execution_count": 19,
   "metadata": {},
   "outputs": [
    {
     "data": {
      "image/png": "[encoded data removed]",
      "text/plain": [
       "<Figure size 576x288 with 1 Axes>"
      ]
     },
     "metadata": {
      "needs_background": "light"
     },
     "output_type": "display_data"
    }
   ],
   "source": [
    "pp.print_salary_boxplot('degree_t', dataframe)"
   ]
  },
  {
   "cell_type": "code",
   "execution_count": 20,
   "metadata": {},
   "outputs": [
    {
     "data": {
      "text/plain": [
       "count    215.000000\n",
       "mean      66.370186\n",
       "std        7.358743\n",
       "min       50.000000\n",
       "25%       61.000000\n",
       "50%       66.000000\n",
       "75%       72.000000\n",
       "max       91.000000\n",
       "Name: degree_p, dtype: float64"
      ]
     },
     "execution_count": 20,
     "metadata": {},
     "output_type": "execute_result"
    }
   ],
   "source": [
    "dataframe.degree_p.describe()"
   ]
  },
  {
   "cell_type": "code",
   "execution_count": 21,
   "metadata": {},
   "outputs": [
    {
     "data": {
      "image/png": "[encoded data removed]",
      "text/plain": [
       "<Figure size 432x288 with 1 Axes>"
      ]
     },
     "metadata": {
      "needs_background": "light"
     },
     "output_type": "display_data"
    }
   ],
   "source": [
    "pp.print_status_kernel('degree_p', dataframe)"
   ]
  },
  {
   "cell_type": "code",
   "execution_count": 22,
   "metadata": {},
   "outputs": [
    {
     "data": {
      "text/plain": [
       "<Figure size 576x288 with 0 Axes>"
      ]
     },
     "metadata": {},
     "output_type": "display_data"
    },
    {
     "data": {
      "image/png": "[encoded data removed]",
      "text/plain": [
       "<Figure size 464.5x360 with 1 Axes>"
      ]
     },
     "metadata": {
      "needs_background": "light"
     },
     "output_type": "display_data"
    }
   ],
   "source": [
    "pp.print_salary_scatter('degree_p', dataframe, 'degree_t')"
   ]
  },
  {
   "cell_type": "markdown",
   "metadata": {},
   "source": [
    "Conclusiones: \n",
    " - La mayoria de los alumnos son de commerce and managment.\n",
    " - Ni el estatus ni el salario se ven muy afectados por el tipo de grado; un poco superior el salario en science and tech.\n",
    " - Las notas si tienen importancia en el status; los que tienen plaza se situan entorno al 7 y los que no entorno al 6.\n",
    " - El salario no presenta ningun tipo  de correlacion con la nota"
   ]
  },
  {
   "cell_type": "markdown",
   "metadata": {},
   "source": [
    "**4. Educación secundaria (consejo y nota)**"
   ]
  },
  {
   "cell_type": "code",
   "execution_count": 23,
   "metadata": {},
   "outputs": [
    {
     "data": {
      "text/plain": [
       "Central    116\n",
       "Others      99\n",
       "Name: ssc_b, dtype: int64"
      ]
     },
     "execution_count": 23,
     "metadata": {},
     "output_type": "execute_result"
    }
   ],
   "source": [
    "dataframe.ssc_b.value_counts()"
   ]
  },
  {
   "cell_type": "code",
   "execution_count": 24,
   "metadata": {},
   "outputs": [
    {
     "data": {
      "image/png": "[encoded data removed]",
      "text/plain": [
       "<Figure size 576x288 with 1 Axes>"
      ]
     },
     "metadata": {
      "needs_background": "light"
     },
     "output_type": "display_data"
    }
   ],
   "source": [
    "pp.print_status('ssc_b', dataframe)"
   ]
  },
  {
   "cell_type": "code",
   "execution_count": 25,
   "metadata": {},
   "outputs": [
    {
     "data": {
      "image/png": "[encoded data removed]",
      "text/plain": [
       "<Figure size 576x288 with 1 Axes>"
      ]
     },
     "metadata": {
      "needs_background": "light"
     },
     "output_type": "display_data"
    }
   ],
   "source": [
    "pp.print_salary('ssc_b', dataframe)"
   ]
  },
  {
   "cell_type": "code",
   "execution_count": 26,
   "metadata": {},
   "outputs": [
    {
     "data": {
      "image/png": "[encoded data removed]",
      "text/plain": [
       "<Figure size 576x288 with 1 Axes>"
      ]
     },
     "metadata": {
      "needs_background": "light"
     },
     "output_type": "display_data"
    }
   ],
   "source": [
    "pp.print_salary_boxplot('ssc_b', dataframe)"
   ]
  },
  {
   "cell_type": "code",
   "execution_count": 27,
   "metadata": {},
   "outputs": [
    {
     "data": {
      "text/plain": [
       "count    215.000000\n",
       "mean      67.303395\n",
       "std       10.827205\n",
       "min       40.890000\n",
       "25%       60.600000\n",
       "50%       67.000000\n",
       "75%       75.700000\n",
       "max       89.400000\n",
       "Name: ssc_p, dtype: float64"
      ]
     },
     "execution_count": 27,
     "metadata": {},
     "output_type": "execute_result"
    }
   ],
   "source": [
    "dataframe.ssc_p.describe()"
   ]
  },
  {
   "cell_type": "code",
   "execution_count": 28,
   "metadata": {},
   "outputs": [
    {
     "data": {
      "image/png": "[encoded data removed]",
      "text/plain": [
       "<Figure size 432x288 with 1 Axes>"
      ]
     },
     "metadata": {
      "needs_background": "light"
     },
     "output_type": "display_data"
    }
   ],
   "source": [
    "pp.print_status_kernel('ssc_p', dataframe)"
   ]
  },
  {
   "cell_type": "code",
   "execution_count": 29,
   "metadata": {},
   "outputs": [
    {
     "data": {
      "text/plain": [
       "<Figure size 576x288 with 0 Axes>"
      ]
     },
     "metadata": {},
     "output_type": "display_data"
    },
    {
     "data": {
      "image/png": "[encoded data removed]",
      "text/plain": [
       "<Figure size 432.375x360 with 1 Axes>"
      ]
     },
     "metadata": {
      "needs_background": "light"
     },
     "output_type": "display_data"
    }
   ],
   "source": [
    "pp.print_salary_scatter('ssc_p', dataframe, 'ssc_b')"
   ]
  },
  {
   "cell_type": "markdown",
   "metadata": {},
   "source": [
    "Conclusiones:\n",
    "- El consejo no parece tener ningun efecto sobre el estatus o el salario; unicamente destacar que los ('muy') outliers son de las consejos del centro.\n",
    "- En cuanto a la nota, si tiene un efecto sobre el estatus, los que tienen plaza tienen notas entorno al 7.5 y los que no tienen plaza entorno al 5, 5.5.\n",
    "- El salario no parece tener una correlacion con la nota"
   ]
  },
  {
   "cell_type": "markdown",
   "metadata": {},
   "source": [
    "**5. Educación superior (consejo, nota y especializacion)**"
   ]
  },
  {
   "cell_type": "code",
   "execution_count": 30,
   "metadata": {},
   "outputs": [
    {
     "data": {
      "text/plain": [
       "Others     131\n",
       "Central     84\n",
       "Name: hsc_b, dtype: int64"
      ]
     },
     "execution_count": 30,
     "metadata": {},
     "output_type": "execute_result"
    }
   ],
   "source": [
    "dataframe.hsc_b.value_counts()"
   ]
  },
  {
   "cell_type": "code",
   "execution_count": 31,
   "metadata": {},
   "outputs": [
    {
     "data": {
      "image/png": "[encoded data removed]",
      "text/plain": [
       "<Figure size 576x288 with 1 Axes>"
      ]
     },
     "metadata": {
      "needs_background": "light"
     },
     "output_type": "display_data"
    }
   ],
   "source": [
    "pp.print_status('hsc_b', dataframe)"
   ]
  },
  {
   "cell_type": "code",
   "execution_count": 32,
   "metadata": {},
   "outputs": [
    {
     "data": {
      "image/png": "[encoded data removed]",
      "text/plain": [
       "<Figure size 576x288 with 1 Axes>"
      ]
     },
     "metadata": {
      "needs_background": "light"
     },
     "output_type": "display_data"
    }
   ],
   "source": [
    "pp.print_salary('hsc_b', dataframe)"
   ]
  },
  {
   "cell_type": "code",
   "execution_count": 33,
   "metadata": {},
   "outputs": [
    {
     "data": {
      "image/png": "[encoded data removed]",
      "text/plain": [
       "<Figure size 576x288 with 1 Axes>"
      ]
     },
     "metadata": {
      "needs_background": "light"
     },
     "output_type": "display_data"
    }
   ],
   "source": [
    "pp.print_salary_boxplot('hsc_b', dataframe)"
   ]
  },
  {
   "cell_type": "code",
   "execution_count": 34,
   "metadata": {},
   "outputs": [
    {
     "data": {
      "text/plain": [
       "Commerce    113\n",
       "Science      91\n",
       "Arts         11\n",
       "Name: hsc_s, dtype: int64"
      ]
     },
     "execution_count": 34,
     "metadata": {},
     "output_type": "execute_result"
    }
   ],
   "source": [
    "dataframe.hsc_s.value_counts()"
   ]
  },
  {
   "cell_type": "code",
   "execution_count": 35,
   "metadata": {},
   "outputs": [
    {
     "data": {
      "image/png": "[encoded data removed]",
      "text/plain": [
       "<Figure size 576x288 with 1 Axes>"
      ]
     },
     "metadata": {
      "needs_background": "light"
     },
     "output_type": "display_data"
    }
   ],
   "source": [
    "pp.print_status('hsc_s', dataframe)"
   ]
  },
  {
   "cell_type": "code",
   "execution_count": 36,
   "metadata": {},
   "outputs": [
    {
     "data": {
      "image/png": "[encoded data removed]",
      "text/plain": [
       "<Figure size 576x288 with 1 Axes>"
      ]
     },
     "metadata": {
      "needs_background": "light"
     },
     "output_type": "display_data"
    }
   ],
   "source": [
    "pp.print_salary('hsc_s', dataframe)"
   ]
  },
  {
   "cell_type": "code",
   "execution_count": 37,
   "metadata": {},
   "outputs": [
    {
     "data": {
      "image/png": "[encoded data removed]",
      "text/plain": [
       "<Figure size 576x288 with 1 Axes>"
      ]
     },
     "metadata": {
      "needs_background": "light"
     },
     "output_type": "display_data"
    }
   ],
   "source": [
    "pp.print_salary_boxplot('hsc_s', dataframe)"
   ]
  },
  {
   "cell_type": "code",
   "execution_count": 38,
   "metadata": {},
   "outputs": [
    {
     "data": {
      "text/plain": [
       "count    215.000000\n",
       "mean      66.333163\n",
       "std       10.897509\n",
       "min       37.000000\n",
       "25%       60.900000\n",
       "50%       65.000000\n",
       "75%       73.000000\n",
       "max       97.700000\n",
       "Name: hsc_p, dtype: float64"
      ]
     },
     "execution_count": 38,
     "metadata": {},
     "output_type": "execute_result"
    }
   ],
   "source": [
    "dataframe.hsc_p.describe()"
   ]
  },
  {
   "cell_type": "code",
   "execution_count": 39,
   "metadata": {},
   "outputs": [
    {
     "data": {
      "image/png": "[encoded data removed]",
      "text/plain": [
       "<Figure size 432x288 with 1 Axes>"
      ]
     },
     "metadata": {
      "needs_background": "light"
     },
     "output_type": "display_data"
    }
   ],
   "source": [
    "pp.print_status_kernel('hsc_p', dataframe)"
   ]
  },
  {
   "cell_type": "code",
   "execution_count": 40,
   "metadata": {},
   "outputs": [
    {
     "data": {
      "text/plain": [
       "<Figure size 576x288 with 0 Axes>"
      ]
     },
     "metadata": {},
     "output_type": "display_data"
    },
    {
     "data": {
      "image/png": "[encoded data removed]",
      "text/plain": [
       "<Figure size 449.75x360 with 1 Axes>"
      ]
     },
     "metadata": {
      "needs_background": "light"
     },
     "output_type": "display_data"
    }
   ],
   "source": [
    "pp.print_salary_scatter('hsc_p', dataframe, 'hsc_s')"
   ]
  },
  {
   "cell_type": "markdown",
   "metadata": {},
   "source": [
    "Conlusiones:\n",
    "- Al igual que con la educacion secundaria, el consejo no tiene efecto apenas sobre el estatus ni tampoco el salario.\n",
    "- La especializacion tampoco parece tener mucho efecto sobre el estatus; si bien es cierto que artes si que estaria peor, la muestra de alumnos de artes es muy pequeña como para poder hacer conclusiones claras; y con el salario pasa algo parecido\n",
    "- Las notas si parecen tener un efecto sobre el estatus, los que tienen plaza tienen mayores notas; pero al igual que antes, no parece tner correlacion con el salario"
   ]
  },
  {
   "cell_type": "markdown",
   "metadata": {},
   "source": [
    "**6. Especializacion post grado**"
   ]
  },
  {
   "cell_type": "code",
   "execution_count": 41,
   "metadata": {},
   "outputs": [
    {
     "data": {
      "text/plain": [
       "Mkt&Fin    120\n",
       "Mkt&HR      95\n",
       "Name: specialisation, dtype: int64"
      ]
     },
     "execution_count": 41,
     "metadata": {},
     "output_type": "execute_result"
    }
   ],
   "source": [
    "dataframe.specialisation.value_counts()"
   ]
  },
  {
   "cell_type": "code",
   "execution_count": 42,
   "metadata": {},
   "outputs": [
    {
     "data": {
      "image/png": "[encoded data removed]",
      "text/plain": [
       "<Figure size 576x288 with 1 Axes>"
      ]
     },
     "metadata": {
      "needs_background": "light"
     },
     "output_type": "display_data"
    }
   ],
   "source": [
    "pp.print_status('specialisation', dataframe)"
   ]
  },
  {
   "cell_type": "code",
   "execution_count": 43,
   "metadata": {},
   "outputs": [
    {
     "data": {
      "image/png": "[encoded data removed]",
      "text/plain": [
       "<Figure size 576x288 with 1 Axes>"
      ]
     },
     "metadata": {
      "needs_background": "light"
     },
     "output_type": "display_data"
    }
   ],
   "source": [
    "pp.print_salary('specialisation', dataframe)"
   ]
  },
  {
   "cell_type": "code",
   "execution_count": 44,
   "metadata": {},
   "outputs": [
    {
     "data": {
      "image/png": "[encoded data removed]",
      "text/plain": [
       "<Figure size 576x288 with 1 Axes>"
      ]
     },
     "metadata": {
      "needs_background": "light"
     },
     "output_type": "display_data"
    }
   ],
   "source": [
    "pp.print_salary_boxplot('specialisation', dataframe)"
   ]
  },
  {
   "cell_type": "markdown",
   "metadata": {},
   "source": [
    "Conclusiones:\n",
    "- La especializacion tiene efecto sobre el estatus; el postgrado marketing y finanzas tiene un ratio mucho mejor en contratados\n",
    "- En cuanto al salario, no parece existir mucha diferencia, eso si, los grandes outliers son el postgrado de marketing y finanzas"
   ]
  },
  {
   "cell_type": "markdown",
   "metadata": {},
   "source": [
    "**7. Nota del MBA**"
   ]
  },
  {
   "cell_type": "code",
   "execution_count": 45,
   "metadata": {},
   "outputs": [
    {
     "data": {
      "text/plain": [
       "count    215.000000\n",
       "mean      62.278186\n",
       "std        5.833385\n",
       "min       51.210000\n",
       "25%       57.945000\n",
       "50%       62.000000\n",
       "75%       66.255000\n",
       "max       77.890000\n",
       "Name: mba_p, dtype: float64"
      ]
     },
     "execution_count": 45,
     "metadata": {},
     "output_type": "execute_result"
    }
   ],
   "source": [
    "dataframe.mba_p.describe()"
   ]
  },
  {
   "cell_type": "code",
   "execution_count": 46,
   "metadata": {},
   "outputs": [
    {
     "data": {
      "image/png": "[encoded data removed]",
      "text/plain": [
       "<Figure size 432x288 with 1 Axes>"
      ]
     },
     "metadata": {
      "needs_background": "light"
     },
     "output_type": "display_data"
    }
   ],
   "source": [
    "pp.print_status_kernel('mba_p', dataframe)"
   ]
  },
  {
   "cell_type": "code",
   "execution_count": 47,
   "metadata": {},
   "outputs": [
    {
     "data": {
      "text/plain": [
       "<Figure size 576x288 with 0 Axes>"
      ]
     },
     "metadata": {},
     "output_type": "display_data"
    },
    {
     "data": {
      "image/png": "[encoded data removed]",
      "text/plain": [
       "<Figure size 360x360 with 1 Axes>"
      ]
     },
     "metadata": {
      "needs_background": "light"
     },
     "output_type": "display_data"
    }
   ],
   "source": [
    "pp.print_salary_scatter('mba_p', dataframe)"
   ]
  },
  {
   "cell_type": "markdown",
   "metadata": {},
   "source": [
    "Conclusiones: \n",
    "- La nota del MBA no parece tener efecto ni el estatus sin el salario"
   ]
  },
  {
   "cell_type": "markdown",
   "metadata": {},
   "source": [
    "**8. Nota del test de empleabilidad**"
   ]
  },
  {
   "cell_type": "code",
   "execution_count": 48,
   "metadata": {},
   "outputs": [
    {
     "data": {
      "text/plain": [
       "count    215.000000\n",
       "mean      72.100558\n",
       "std       13.275956\n",
       "min       50.000000\n",
       "25%       60.000000\n",
       "50%       71.000000\n",
       "75%       83.500000\n",
       "max       98.000000\n",
       "Name: etest_p, dtype: float64"
      ]
     },
     "execution_count": 48,
     "metadata": {},
     "output_type": "execute_result"
    }
   ],
   "source": [
    "dataframe.etest_p.describe()"
   ]
  },
  {
   "cell_type": "code",
   "execution_count": 49,
   "metadata": {},
   "outputs": [
    {
     "data": {
      "image/png": "[encoded data removed]",
      "text/plain": [
       "<Figure size 432x288 with 1 Axes>"
      ]
     },
     "metadata": {
      "needs_background": "light"
     },
     "output_type": "display_data"
    }
   ],
   "source": [
    "pp.print_status_kernel('etest_p', dataframe)"
   ]
  },
  {
   "cell_type": "code",
   "execution_count": 50,
   "metadata": {},
   "outputs": [
    {
     "data": {
      "text/plain": [
       "<Figure size 576x288 with 0 Axes>"
      ]
     },
     "metadata": {},
     "output_type": "display_data"
    },
    {
     "data": {
      "image/png": "[encoded data removed]",
      "text/plain": [
       "<Figure size 360x360 with 1 Axes>"
      ]
     },
     "metadata": {
      "needs_background": "light"
     },
     "output_type": "display_data"
    }
   ],
   "source": [
    "pp.print_salary_scatter('etest_p', dataframe)"
   ]
  },
  {
   "cell_type": "markdown",
   "metadata": {},
   "source": [
    "Conclusiones: \n",
    "- La nota si que parece tener algo de efecto sobre el estatus, pero no parece existir correlacion con el salario."
   ]
  },
  {
   "cell_type": "markdown",
   "metadata": {},
   "source": [
    "**CONCLUSIONES FINALES:** \n",
    "\n",
    " 1. Los outliers del salario podrian sesgar muchos las estimaciones de la prediccion\n",
    "2. Tener en cuenta con el clasificador que mucha poblacion obtuvo trabajo\n",
    "3. Las variables que mas parecen afectar al estatus son el genero(gender), la experiencia(workex), la nota del grado(degree_p), la nota de la educacion secundaria (ssc_p), la especializacion en la secundaria (teniendo muy encuenta que la poblacion de artes es muy pequeña) (hsc_s), la nota de secundaria (hsc_p), especializacion postgrado (specialisation), la nota del test de empleabilidad (etest_p).\n",
    "4. Las variables que parecen afectar al salario son el genero(gender), ligeramente el tipo de grado(degree_t), la especializacion en secundaria (pero con el mismo cuidado que con el estatus) (hsc_s).\n",
    "5. Si bien es estatus si parece tener relacion con las variables del dataset, sobre todo con las notas con el genero y con la experiencia; el salario parece ser un elemento más aleatorio dentro del rango 20k-40k. Esto puede deberse a que esos primeros puestos despues de la educación tienden a tener unos salarios 'estandar' o a que las variables del dataset no son suficientes como para explicar los salario, otras variables como las empresas donde se realizo la experiencia laboral, la habilidad de los alumnos en las entrevistas u otras mas representen mejor el salario."
   ]
  },
  {
   "cell_type": "markdown",
   "metadata": {},
   "source": [
    "\n",
    "Clasificacion: Status | Regresion: Salary\n",
    ":--------: | -------\n",
    "gender | gender\n",
    "workex | degree_t\n",
    "degree_p | hsc_s\n",
    "ssc_p\n",
    "hsc_s\n",
    "hsc_p\n",
    "etest_p"
   ]
  },
  {
   "cell_type": "markdown",
   "metadata": {},
   "source": [
    "### Problema de Clasifiacion (binaria): Predecir si un alumno obtendrá una plaza o no. "
   ]
  },
  {
   "cell_type": "markdown",
   "metadata": {},
   "source": [
    "Para el problema de clasificación debemos quitar del dataset la variable salary, ya que esa sería una variable que podría tener un valor una vez el resultado de status fuera 'placed'. "
   ]
  },
  {
   "cell_type": "code",
   "execution_count": 51,
   "metadata": {},
   "outputs": [],
   "source": [
    "data_clf = dataframe.drop('salary', axis = 1)"
   ]
  },
  {
   "cell_type": "markdown",
   "metadata": {},
   "source": [
    "Para la clasificacion vamos a utilizar multiples modelos y los compararemos entre ellos para ver cuál tiene mejor rendimiento en base a difentes metricas."
   ]
  },
  {
   "cell_type": "markdown",
   "metadata": {},
   "source": [
    "Los modelos que vamos a usar son: Desicion Tree, Random Forest, SVM y clasificadores Gausianos"
   ]
  },
  {
   "cell_type": "markdown",
   "metadata": {},
   "source": [
    "#### Decision Tree"
   ]
  },
  {
   "cell_type": "code",
   "execution_count": 52,
   "metadata": {},
   "outputs": [],
   "source": [
    "from sklearn.tree import DecisionTreeClassifier\n",
    "from sklearn.model_selection import train_test_split\n",
    "from sklearn.metrics import accuracy_score, classification_report"
   ]
  },
  {
   "cell_type": "markdown",
   "metadata": {},
   "source": [
    "El arbol de decision no requiere escalar las variables y nos epermite trabajar con ellas como variable categorica (sin hacer dummies). "
   ]
  },
  {
   "cell_type": "markdown",
   "metadata": {},
   "source": [
    "Primero, debemos separar las variables explicativas (vamos a probar solo con las variables que han resulado del analisis exploratorio) de la variable explicada. "
   ]
  },
  {
   "cell_type": "code",
   "execution_count": 53,
   "metadata": {},
   "outputs": [],
   "source": [
    "X, y = data_clf[['gender', 'workex', 'degree_p', 'ssc_p', 'hsc_s', 'hsc_p', 'etest_p']], data_clf[['status']]"
   ]
  },
  {
   "cell_type": "code",
   "execution_count": 54,
   "metadata": {},
   "outputs": [
    {
     "data": {
      "text/html": [
       "<div>\n",
       "<style scoped>\n",
       "    .dataframe tbody tr th:only-of-type {\n",
       "        vertical-align: middle;\n",
       "    }\n",
       "\n",
       "    .dataframe tbody tr th {\n",
       "        vertical-align: top;\n",
       "    }\n",
       "\n",
       "    .dataframe thead th {\n",
       "        text-align: right;\n",
       "    }\n",
       "</style>\n",
       "<table border=\"1\" class=\"dataframe\">\n",
       "  <thead>\n",
       "    <tr style=\"text-align: right;\">\n",
       "      <th></th>\n",
       "      <th>gender</th>\n",
       "      <th>workex</th>\n",
       "      <th>degree_p</th>\n",
       "      <th>ssc_p</th>\n",
       "      <th>hsc_s</th>\n",
       "      <th>hsc_p</th>\n",
       "      <th>etest_p</th>\n",
       "    </tr>\n",
       "  </thead>\n",
       "  <tbody>\n",
       "    <tr>\n",
       "      <th>0</th>\n",
       "      <td>M</td>\n",
       "      <td>No</td>\n",
       "      <td>58.00</td>\n",
       "      <td>67.00</td>\n",
       "      <td>Commerce</td>\n",
       "      <td>91.00</td>\n",
       "      <td>55.0</td>\n",
       "    </tr>\n",
       "    <tr>\n",
       "      <th>1</th>\n",
       "      <td>M</td>\n",
       "      <td>Yes</td>\n",
       "      <td>77.48</td>\n",
       "      <td>79.33</td>\n",
       "      <td>Science</td>\n",
       "      <td>78.33</td>\n",
       "      <td>86.5</td>\n",
       "    </tr>\n",
       "    <tr>\n",
       "      <th>2</th>\n",
       "      <td>M</td>\n",
       "      <td>No</td>\n",
       "      <td>64.00</td>\n",
       "      <td>65.00</td>\n",
       "      <td>Arts</td>\n",
       "      <td>68.00</td>\n",
       "      <td>75.0</td>\n",
       "    </tr>\n",
       "    <tr>\n",
       "      <th>3</th>\n",
       "      <td>M</td>\n",
       "      <td>No</td>\n",
       "      <td>52.00</td>\n",
       "      <td>56.00</td>\n",
       "      <td>Science</td>\n",
       "      <td>52.00</td>\n",
       "      <td>66.0</td>\n",
       "    </tr>\n",
       "    <tr>\n",
       "      <th>4</th>\n",
       "      <td>M</td>\n",
       "      <td>No</td>\n",
       "      <td>73.30</td>\n",
       "      <td>85.80</td>\n",
       "      <td>Commerce</td>\n",
       "      <td>73.60</td>\n",
       "      <td>96.8</td>\n",
       "    </tr>\n",
       "  </tbody>\n",
       "</table>\n",
       "</div>"
      ],
      "text/plain": [
       "  gender workex  degree_p  ssc_p     hsc_s  hsc_p  etest_p\n",
       "0      M     No     58.00  67.00  Commerce  91.00     55.0\n",
       "1      M    Yes     77.48  79.33   Science  78.33     86.5\n",
       "2      M     No     64.00  65.00      Arts  68.00     75.0\n",
       "3      M     No     52.00  56.00   Science  52.00     66.0\n",
       "4      M     No     73.30  85.80  Commerce  73.60     96.8"
      ]
     },
     "execution_count": 54,
     "metadata": {},
     "output_type": "execute_result"
    }
   ],
   "source": [
    "X.head()"
   ]
  },
  {
   "cell_type": "code",
   "execution_count": 55,
   "metadata": {},
   "outputs": [
    {
     "data": {
      "text/html": [
       "<div>\n",
       "<style scoped>\n",
       "    .dataframe tbody tr th:only-of-type {\n",
       "        vertical-align: middle;\n",
       "    }\n",
       "\n",
       "    .dataframe tbody tr th {\n",
       "        vertical-align: top;\n",
       "    }\n",
       "\n",
       "    .dataframe thead th {\n",
       "        text-align: right;\n",
       "    }\n",
       "</style>\n",
       "<table border=\"1\" class=\"dataframe\">\n",
       "  <thead>\n",
       "    <tr style=\"text-align: right;\">\n",
       "      <th></th>\n",
       "      <th>status</th>\n",
       "    </tr>\n",
       "  </thead>\n",
       "  <tbody>\n",
       "    <tr>\n",
       "      <th>0</th>\n",
       "      <td>Placed</td>\n",
       "    </tr>\n",
       "    <tr>\n",
       "      <th>1</th>\n",
       "      <td>Placed</td>\n",
       "    </tr>\n",
       "    <tr>\n",
       "      <th>2</th>\n",
       "      <td>Placed</td>\n",
       "    </tr>\n",
       "    <tr>\n",
       "      <th>3</th>\n",
       "      <td>Not Placed</td>\n",
       "    </tr>\n",
       "    <tr>\n",
       "      <th>4</th>\n",
       "      <td>Placed</td>\n",
       "    </tr>\n",
       "  </tbody>\n",
       "</table>\n",
       "</div>"
      ],
      "text/plain": [
       "       status\n",
       "0      Placed\n",
       "1      Placed\n",
       "2      Placed\n",
       "3  Not Placed\n",
       "4      Placed"
      ]
     },
     "execution_count": 55,
     "metadata": {},
     "output_type": "execute_result"
    }
   ],
   "source": [
    "y.head()"
   ]
  },
  {
   "cell_type": "markdown",
   "metadata": {},
   "source": [
    "Aunque el arbol de decision acepta variables categoricas, debemos mapearlas con valores para que funcione. Mantenerlas con su valor ayuda a la interpretacion del gráfico que veremos a continuación."
   ]
  },
  {
   "cell_type": "code",
   "execution_count": 56,
   "metadata": {},
   "outputs": [],
   "source": [
    "X.gender = X.gender.map({'M':0, 'F':1})\n",
    "X.workex = X.workex.map({'No':0, 'Yes':1})\n",
    "X.hsc_s = X.hsc_s.map({'Commerce':0, 'Science':1, 'Arts':2})"
   ]
  },
  {
   "cell_type": "markdown",
   "metadata": {},
   "source": [
    "Una vez tenemos las variables mapeadas, separamos en conjutos para entrenar y para testear."
   ]
  },
  {
   "cell_type": "code",
   "execution_count": 57,
   "metadata": {},
   "outputs": [],
   "source": [
    "X_train, X_test, y_train, y_test = train_test_split(X, y, test_size=0.3, stratify=y, random_state=0)"
   ]
  },
  {
   "cell_type": "markdown",
   "metadata": {},
   "source": [
    "Entrenamos y testeamos el modelo:"
   ]
  },
  {
   "cell_type": "code",
   "execution_count": 58,
   "metadata": {},
   "outputs": [
    {
     "data": {
      "text/plain": [
       "0.7846153846153846"
      ]
     },
     "execution_count": 58,
     "metadata": {},
     "output_type": "execute_result"
    }
   ],
   "source": [
    "clf_tree = DecisionTreeClassifier(random_state=0, max_depth=3)\n",
    "# Al dejarle max_depth=inf sobreentrena\n",
    "clf_tree.fit(X_train, y_train)\n",
    "y_pred = clf_tree.predict(X_test)\n",
    "accuracy_score(y_test, y_pred)"
   ]
  },
  {
   "cell_type": "markdown",
   "metadata": {},
   "source": [
    "Hemos tenido un acierto del 80%"
   ]
  },
  {
   "cell_type": "code",
   "execution_count": 59,
   "metadata": {},
   "outputs": [
    {
     "name": "stdout",
     "output_type": "stream",
     "text": [
      "              precision    recall  f1-score   support\n",
      "\n",
      "  Not Placed       0.64      0.70      0.67        20\n",
      "      Placed       0.86      0.82      0.84        45\n",
      "\n",
      "    accuracy                           0.78        65\n",
      "   macro avg       0.75      0.76      0.75        65\n",
      "weighted avg       0.79      0.78      0.79        65\n",
      "\n"
     ]
    }
   ],
   "source": [
    "print(classification_report(y_test, y_pred))"
   ]
  },
  {
   "cell_type": "markdown",
   "metadata": {},
   "source": [
    "Esta tabla nos da información de mas métricas, vemos que la precisión con los Placed es bastante alta, pero no lo es tanto con los Not Placed; parecido ocurre con el recall."
   ]
  },
  {
   "cell_type": "markdown",
   "metadata": {},
   "source": [
    "![Error al cargar la imagen](imagenes/confusion_matrix2.png) "
   ]
  },
  {
   "cell_type": "code",
   "execution_count": 60,
   "metadata": {},
   "outputs": [
    {
     "data": {
      "image/png": "[encoded data removed]",
      "text/plain": [
       "<Figure size 432x288 with 2 Axes>"
      ]
     },
     "metadata": {
      "needs_background": "light"
     },
     "output_type": "display_data"
    }
   ],
   "source": [
    "pp.print_pretty_confusionMatrix(clf_tree, np.unique(y), X_test, y_test)"
   ]
  },
  {
   "cell_type": "markdown",
   "metadata": {},
   "source": [
    "Aquí vemos como se ha comportado el model; tenemos 37 que ha clasificado como Placed cuando si eran Placed, pero ha clasiicado 6 como Placed cuando realmente eran Not Placed. Por otro lado, ha predecido bien 14 como Not Placed pero se ha equivocado con 8 que si eran Placed. "
   ]
  },
  {
   "cell_type": "markdown",
   "metadata": {},
   "source": [
    "Podemos pintar el arbol para su interpretación:"
   ]
  },
  {
   "cell_type": "code",
   "execution_count": 61,
   "metadata": {},
   "outputs": [],
   "source": [
    "#pp.print_decisionTree_colour(clf_tree, list(X.columns), 'status')"
   ]
  },
  {
   "cell_type": "code",
   "execution_count": 62,
   "metadata": {},
   "outputs": [],
   "source": [
    "##pp.print_decisionTree_text(clf_tree, list(X.columns))"
   ]
  },
  {
   "cell_type": "markdown",
   "metadata": {},
   "source": [
    "#### Random Forest"
   ]
  },
  {
   "cell_type": "code",
   "execution_count": 63,
   "metadata": {},
   "outputs": [],
   "source": [
    "from sklearn.ensemble import RandomForestClassifier"
   ]
  },
  {
   "cell_type": "markdown",
   "metadata": {},
   "source": [
    "Random forest usa una tecnica de 'ensamble' llamada 'bagging'; genera multiples arboles de decisiones y en cada uno elige un numero aleatorio de variables.  "
   ]
  },
  {
   "cell_type": "markdown",
   "metadata": {},
   "source": [
    "Además realiza boostraping para la selección de la muestra en cada árbol de decisión, la predicción final se realiza con la media de las predicciones de los árboles."
   ]
  },
  {
   "cell_type": "markdown",
   "metadata": {},
   "source": [
    " En resumen, de forma aleatoria selecciona data points y variables y crea multiples árboles de decisión.  Como consecuencia es más robusto que un único árbol, aunque eso no garantiza una mejor performance."
   ]
  },
  {
   "cell_type": "code",
   "execution_count": 64,
   "metadata": {},
   "outputs": [
    {
     "data": {
      "text/plain": [
       "0.8461538461538461"
      ]
     },
     "execution_count": 64,
     "metadata": {},
     "output_type": "execute_result"
    }
   ],
   "source": [
    "clf_rand = RandomForestClassifier(random_state=0)\n",
    "clf_rand.fit(X_train, y_train)\n",
    "y_pred = clf_rand.predict(X_test)\n",
    "accuracy_score(y_test, y_pred)"
   ]
  },
  {
   "cell_type": "markdown",
   "metadata": {},
   "source": [
    "La performance es mejor que con el decision tree, subiendo hasta un 84%."
   ]
  },
  {
   "cell_type": "code",
   "execution_count": 65,
   "metadata": {},
   "outputs": [
    {
     "name": "stdout",
     "output_type": "stream",
     "text": [
      "              precision    recall  f1-score   support\n",
      "\n",
      "  Not Placed       0.65      0.81      0.72        16\n",
      "      Placed       0.93      0.86      0.89        49\n",
      "\n",
      "    accuracy                           0.85        65\n",
      "   macro avg       0.79      0.83      0.81        65\n",
      "weighted avg       0.86      0.85      0.85        65\n",
      "\n"
     ]
    }
   ],
   "source": [
    "print(classification_report(y_pred, y_test))"
   ]
  },
  {
   "cell_type": "markdown",
   "metadata": {},
   "source": [
    "Vemos que al igual con el decision tree, el modelo se comporta mejor con los Placed que con los Not Placed. Sobretodo en este caso con la precisión, será importante tener esto en cuenta si sucede igual con el resto de modelos."
   ]
  },
  {
   "cell_type": "code",
   "execution_count": 66,
   "metadata": {},
   "outputs": [
    {
     "data": {
      "image/png": "[encoded data removed]",
      "text/plain": [
       "<Figure size 432x288 with 2 Axes>"
      ]
     },
     "metadata": {
      "needs_background": "light"
     },
     "output_type": "display_data"
    }
   ],
   "source": [
    "pp.print_pretty_confusionMatrix(clf_rand, np.unique(y), X_test, y_test)"
   ]
  },
  {
   "cell_type": "markdown",
   "metadata": {},
   "source": [
    "Aquí vemos como el modelo ha mejorado la actuación del anterior en los casos Placed (suben los true positives), sin embargo, no mejora para los false positive. "
   ]
  },
  {
   "cell_type": "markdown",
   "metadata": {},
   "source": [
    "#### SVM "
   ]
  },
  {
   "cell_type": "code",
   "execution_count": 67,
   "metadata": {},
   "outputs": [],
   "source": [
    "from sklearn.svm import SVC\n",
    "from sklearn.preprocessing import MinMaxScaler, StandardScaler"
   ]
  },
  {
   "cell_type": "markdown",
   "metadata": {},
   "source": [
    "Para realizar un supor vector machine es mejor escalar las variables, ya que el hiperplano óptimo estará influenciado por la escala de las variables. Además, SVM no trabaja con variables categoricas como los decision tree y es necesario crear dummies."
   ]
  },
  {
   "cell_type": "code",
   "execution_count": 112,
   "metadata": {},
   "outputs": [],
   "source": [
    "data_clf_dummies = pd.get_dummies(data_clf, drop_first=True)"
   ]
  },
  {
   "cell_type": "markdown",
   "metadata": {},
   "source": [
    "Ahora, igual que antes, separamos en X e y:"
   ]
  },
  {
   "cell_type": "code",
   "execution_count": 113,
   "metadata": {},
   "outputs": [],
   "source": [
    "X, y = data_clf_dummies.drop('status_Placed',axis=1), data_clf_dummies.loc[:,'status_Placed']"
   ]
  },
  {
   "cell_type": "code",
   "execution_count": 114,
   "metadata": {},
   "outputs": [
    {
     "data": {
      "text/html": [
       "<div>\n",
       "<style scoped>\n",
       "    .dataframe tbody tr th:only-of-type {\n",
       "        vertical-align: middle;\n",
       "    }\n",
       "\n",
       "    .dataframe tbody tr th {\n",
       "        vertical-align: top;\n",
       "    }\n",
       "\n",
       "    .dataframe thead th {\n",
       "        text-align: right;\n",
       "    }\n",
       "</style>\n",
       "<table border=\"1\" class=\"dataframe\">\n",
       "  <thead>\n",
       "    <tr style=\"text-align: right;\">\n",
       "      <th></th>\n",
       "      <th>ssc_p</th>\n",
       "      <th>hsc_p</th>\n",
       "      <th>degree_p</th>\n",
       "      <th>etest_p</th>\n",
       "      <th>mba_p</th>\n",
       "      <th>gender_M</th>\n",
       "      <th>ssc_b_Others</th>\n",
       "      <th>hsc_b_Others</th>\n",
       "      <th>hsc_s_Commerce</th>\n",
       "      <th>hsc_s_Science</th>\n",
       "      <th>degree_t_Others</th>\n",
       "      <th>degree_t_Sci&amp;Tech</th>\n",
       "      <th>workex_Yes</th>\n",
       "      <th>specialisation_Mkt&amp;HR</th>\n",
       "    </tr>\n",
       "  </thead>\n",
       "  <tbody>\n",
       "    <tr>\n",
       "      <th>0</th>\n",
       "      <td>67.00</td>\n",
       "      <td>91.00</td>\n",
       "      <td>58.00</td>\n",
       "      <td>55.0</td>\n",
       "      <td>58.80</td>\n",
       "      <td>1</td>\n",
       "      <td>1</td>\n",
       "      <td>1</td>\n",
       "      <td>1</td>\n",
       "      <td>0</td>\n",
       "      <td>0</td>\n",
       "      <td>1</td>\n",
       "      <td>0</td>\n",
       "      <td>1</td>\n",
       "    </tr>\n",
       "    <tr>\n",
       "      <th>1</th>\n",
       "      <td>79.33</td>\n",
       "      <td>78.33</td>\n",
       "      <td>77.48</td>\n",
       "      <td>86.5</td>\n",
       "      <td>66.28</td>\n",
       "      <td>1</td>\n",
       "      <td>0</td>\n",
       "      <td>1</td>\n",
       "      <td>0</td>\n",
       "      <td>1</td>\n",
       "      <td>0</td>\n",
       "      <td>1</td>\n",
       "      <td>1</td>\n",
       "      <td>0</td>\n",
       "    </tr>\n",
       "    <tr>\n",
       "      <th>2</th>\n",
       "      <td>65.00</td>\n",
       "      <td>68.00</td>\n",
       "      <td>64.00</td>\n",
       "      <td>75.0</td>\n",
       "      <td>57.80</td>\n",
       "      <td>1</td>\n",
       "      <td>0</td>\n",
       "      <td>0</td>\n",
       "      <td>0</td>\n",
       "      <td>0</td>\n",
       "      <td>0</td>\n",
       "      <td>0</td>\n",
       "      <td>0</td>\n",
       "      <td>0</td>\n",
       "    </tr>\n",
       "    <tr>\n",
       "      <th>3</th>\n",
       "      <td>56.00</td>\n",
       "      <td>52.00</td>\n",
       "      <td>52.00</td>\n",
       "      <td>66.0</td>\n",
       "      <td>59.43</td>\n",
       "      <td>1</td>\n",
       "      <td>0</td>\n",
       "      <td>0</td>\n",
       "      <td>0</td>\n",
       "      <td>1</td>\n",
       "      <td>0</td>\n",
       "      <td>1</td>\n",
       "      <td>0</td>\n",
       "      <td>1</td>\n",
       "    </tr>\n",
       "    <tr>\n",
       "      <th>4</th>\n",
       "      <td>85.80</td>\n",
       "      <td>73.60</td>\n",
       "      <td>73.30</td>\n",
       "      <td>96.8</td>\n",
       "      <td>55.50</td>\n",
       "      <td>1</td>\n",
       "      <td>0</td>\n",
       "      <td>0</td>\n",
       "      <td>1</td>\n",
       "      <td>0</td>\n",
       "      <td>0</td>\n",
       "      <td>0</td>\n",
       "      <td>0</td>\n",
       "      <td>0</td>\n",
       "    </tr>\n",
       "  </tbody>\n",
       "</table>\n",
       "</div>"
      ],
      "text/plain": [
       "   ssc_p  hsc_p  degree_p  etest_p  mba_p  gender_M  ssc_b_Others  \\\n",
       "0  67.00  91.00     58.00     55.0  58.80         1             1   \n",
       "1  79.33  78.33     77.48     86.5  66.28         1             0   \n",
       "2  65.00  68.00     64.00     75.0  57.80         1             0   \n",
       "3  56.00  52.00     52.00     66.0  59.43         1             0   \n",
       "4  85.80  73.60     73.30     96.8  55.50         1             0   \n",
       "\n",
       "   hsc_b_Others  hsc_s_Commerce  hsc_s_Science  degree_t_Others  \\\n",
       "0             1               1              0                0   \n",
       "1             1               0              1                0   \n",
       "2             0               0              0                0   \n",
       "3             0               0              1                0   \n",
       "4             0               1              0                0   \n",
       "\n",
       "   degree_t_Sci&Tech  workex_Yes  specialisation_Mkt&HR  \n",
       "0                  1           0                      1  \n",
       "1                  1           1                      0  \n",
       "2                  0           0                      0  \n",
       "3                  1           0                      1  \n",
       "4                  0           0                      0  "
      ]
     },
     "execution_count": 114,
     "metadata": {},
     "output_type": "execute_result"
    }
   ],
   "source": [
    "X.head()"
   ]
  },
  {
   "cell_type": "markdown",
   "metadata": {},
   "source": [
    "Aquí vemos como la escala de las variables es diferente, mientras las notas esan en escala 0-100, las dummies tienen valor 0-1."
   ]
  },
  {
   "cell_type": "markdown",
   "metadata": {},
   "source": [
    "El preprocesado con `MinMaxScaler` deja las variables dummy como 0-1."
   ]
  },
  {
   "cell_type": "code",
   "execution_count": 115,
   "metadata": {},
   "outputs": [
    {
     "data": {
      "text/html": [
       "<div>\n",
       "<style scoped>\n",
       "    .dataframe tbody tr th:only-of-type {\n",
       "        vertical-align: middle;\n",
       "    }\n",
       "\n",
       "    .dataframe tbody tr th {\n",
       "        vertical-align: top;\n",
       "    }\n",
       "\n",
       "    .dataframe thead th {\n",
       "        text-align: right;\n",
       "    }\n",
       "</style>\n",
       "<table border=\"1\" class=\"dataframe\">\n",
       "  <thead>\n",
       "    <tr style=\"text-align: right;\">\n",
       "      <th></th>\n",
       "      <th>0</th>\n",
       "      <th>1</th>\n",
       "      <th>2</th>\n",
       "      <th>3</th>\n",
       "      <th>4</th>\n",
       "      <th>5</th>\n",
       "      <th>6</th>\n",
       "      <th>7</th>\n",
       "      <th>8</th>\n",
       "      <th>9</th>\n",
       "      <th>10</th>\n",
       "      <th>11</th>\n",
       "      <th>12</th>\n",
       "      <th>13</th>\n",
       "    </tr>\n",
       "  </thead>\n",
       "  <tbody>\n",
       "    <tr>\n",
       "      <th>0</th>\n",
       "      <td>0.538240</td>\n",
       "      <td>0.889621</td>\n",
       "      <td>0.195122</td>\n",
       "      <td>0.104167</td>\n",
       "      <td>0.284483</td>\n",
       "      <td>1.0</td>\n",
       "      <td>1.0</td>\n",
       "      <td>1.0</td>\n",
       "      <td>1.0</td>\n",
       "      <td>0.0</td>\n",
       "      <td>0.0</td>\n",
       "      <td>1.0</td>\n",
       "      <td>0.0</td>\n",
       "      <td>1.0</td>\n",
       "    </tr>\n",
       "    <tr>\n",
       "      <th>1</th>\n",
       "      <td>0.792414</td>\n",
       "      <td>0.680890</td>\n",
       "      <td>0.670244</td>\n",
       "      <td>0.760417</td>\n",
       "      <td>0.564843</td>\n",
       "      <td>1.0</td>\n",
       "      <td>0.0</td>\n",
       "      <td>1.0</td>\n",
       "      <td>0.0</td>\n",
       "      <td>1.0</td>\n",
       "      <td>0.0</td>\n",
       "      <td>1.0</td>\n",
       "      <td>1.0</td>\n",
       "      <td>0.0</td>\n",
       "    </tr>\n",
       "    <tr>\n",
       "      <th>2</th>\n",
       "      <td>0.497011</td>\n",
       "      <td>0.510708</td>\n",
       "      <td>0.341463</td>\n",
       "      <td>0.520833</td>\n",
       "      <td>0.247001</td>\n",
       "      <td>1.0</td>\n",
       "      <td>0.0</td>\n",
       "      <td>0.0</td>\n",
       "      <td>0.0</td>\n",
       "      <td>0.0</td>\n",
       "      <td>0.0</td>\n",
       "      <td>0.0</td>\n",
       "      <td>0.0</td>\n",
       "      <td>0.0</td>\n",
       "    </tr>\n",
       "    <tr>\n",
       "      <th>3</th>\n",
       "      <td>0.311482</td>\n",
       "      <td>0.247117</td>\n",
       "      <td>0.048780</td>\n",
       "      <td>0.333333</td>\n",
       "      <td>0.308096</td>\n",
       "      <td>1.0</td>\n",
       "      <td>0.0</td>\n",
       "      <td>0.0</td>\n",
       "      <td>0.0</td>\n",
       "      <td>1.0</td>\n",
       "      <td>0.0</td>\n",
       "      <td>1.0</td>\n",
       "      <td>0.0</td>\n",
       "      <td>1.0</td>\n",
       "    </tr>\n",
       "    <tr>\n",
       "      <th>4</th>\n",
       "      <td>0.925788</td>\n",
       "      <td>0.602965</td>\n",
       "      <td>0.568293</td>\n",
       "      <td>0.975000</td>\n",
       "      <td>0.160795</td>\n",
       "      <td>1.0</td>\n",
       "      <td>0.0</td>\n",
       "      <td>0.0</td>\n",
       "      <td>1.0</td>\n",
       "      <td>0.0</td>\n",
       "      <td>0.0</td>\n",
       "      <td>0.0</td>\n",
       "      <td>0.0</td>\n",
       "      <td>0.0</td>\n",
       "    </tr>\n",
       "  </tbody>\n",
       "</table>\n",
       "</div>"
      ],
      "text/plain": [
       "         0         1         2         3         4    5    6    7    8    9   \\\n",
       "0  0.538240  0.889621  0.195122  0.104167  0.284483  1.0  1.0  1.0  1.0  0.0   \n",
       "1  0.792414  0.680890  0.670244  0.760417  0.564843  1.0  0.0  1.0  0.0  1.0   \n",
       "2  0.497011  0.510708  0.341463  0.520833  0.247001  1.0  0.0  0.0  0.0  0.0   \n",
       "3  0.311482  0.247117  0.048780  0.333333  0.308096  1.0  0.0  0.0  0.0  1.0   \n",
       "4  0.925788  0.602965  0.568293  0.975000  0.160795  1.0  0.0  0.0  1.0  0.0   \n",
       "\n",
       "    10   11   12   13  \n",
       "0  0.0  1.0  0.0  1.0  \n",
       "1  0.0  1.0  1.0  0.0  \n",
       "2  0.0  0.0  0.0  0.0  \n",
       "3  0.0  1.0  0.0  1.0  \n",
       "4  0.0  0.0  0.0  0.0  "
      ]
     },
     "execution_count": 115,
     "metadata": {},
     "output_type": "execute_result"
    }
   ],
   "source": [
    "X_scaled = MinMaxScaler().fit_transform(X)\n",
    "pd.DataFrame(X_scaled).head() #Para mostrar el resultado"
   ]
  },
  {
   "cell_type": "markdown",
   "metadata": {},
   "source": [
    "Hacemos la separacion entre train y test:"
   ]
  },
  {
   "cell_type": "code",
   "execution_count": 116,
   "metadata": {},
   "outputs": [],
   "source": [
    "X_train, X_test, y_train, y_test = train_test_split(X_scaled, y, test_size = 0.3,random_state=0, stratify=y)"
   ]
  },
  {
   "cell_type": "markdown",
   "metadata": {},
   "source": [
    "Entrenamos y predecimos con el modelo primero con el kernel lineal y despues el Gausianno."
   ]
  },
  {
   "cell_type": "code",
   "execution_count": 73,
   "metadata": {},
   "outputs": [
    {
     "data": {
      "text/plain": [
       "0.8769230769230769"
      ]
     },
     "execution_count": 73,
     "metadata": {},
     "output_type": "execute_result"
    }
   ],
   "source": [
    "clf_svm = SVC(kernel = 'linear')\n",
    "clf_svm.fit(X_train, y_train)\n",
    "y_pred = clf_svm.predict(X_test)\n",
    "accuracy_score(y_test, y_pred)"
   ]
  },
  {
   "cell_type": "code",
   "execution_count": 74,
   "metadata": {},
   "outputs": [
    {
     "name": "stdout",
     "output_type": "stream",
     "text": [
      "              precision    recall  f1-score   support\n",
      "\n",
      "           0       0.88      0.70      0.78        20\n",
      "           1       0.88      0.96      0.91        45\n",
      "\n",
      "    accuracy                           0.88        65\n",
      "   macro avg       0.88      0.83      0.85        65\n",
      "weighted avg       0.88      0.88      0.87        65\n",
      "\n"
     ]
    }
   ],
   "source": [
    "print(classification_report(y_test, y_pred))"
   ]
  },
  {
   "cell_type": "markdown",
   "metadata": {},
   "source": [
    "Vemos que el accuracy del modelo es 87%, en el cuadro vemos muy buena precision con los Placed, pero si siendo dificil identificar los Not Placed."
   ]
  },
  {
   "cell_type": "code",
   "execution_count": 75,
   "metadata": {},
   "outputs": [
    {
     "data": {
      "image/png": "[encoded data removed]",
      "text/plain": [
       "<Figure size 432x288 with 2 Axes>"
      ]
     },
     "metadata": {
      "needs_background": "light"
     },
     "output_type": "display_data"
    }
   ],
   "source": [
    "pp.print_pretty_confusionMatrix(clf_svm, np.unique(y), X_test, y_test)"
   ]
  },
  {
   "cell_type": "markdown",
   "metadata": {},
   "source": [
    "Como hemos dicho, mejora en los true positive, pero sigue dando los mismo resultados con los false positives."
   ]
  },
  {
   "cell_type": "markdown",
   "metadata": {},
   "source": [
    "Ahora vamos a probar el mismo modelo pero con el kernel gaussiano, además vamos a implementar una búsqueda de los mejores parámetros dentro de un rango, tratanto de buscar el mejor modelo."
   ]
  },
  {
   "cell_type": "code",
   "execution_count": 76,
   "metadata": {},
   "outputs": [
    {
     "name": "stdout",
     "output_type": "stream",
     "text": [
      "{'C': 50, 'gamma': 0.005}\n"
     ]
    }
   ],
   "source": [
    "from sklearn.model_selection import GridSearchCV\n",
    "clf_svm = SVC().fit(X_train, y_train) \n",
    "param_grid = {'C': [1, 5, 10, 50],\n",
    "              'gamma': [0.0001, 0.0005, 0.001, 0.005]}\n",
    "grid = GridSearchCV(clf_svm, param_grid, cv=3)\n",
    "grid.fit(X_train, y_train)\n",
    "print(grid.best_params_)"
   ]
  },
  {
   "cell_type": "code",
   "execution_count": 77,
   "metadata": {},
   "outputs": [
    {
     "data": {
      "text/plain": [
       "0.8615384615384616"
      ]
     },
     "execution_count": 77,
     "metadata": {},
     "output_type": "execute_result"
    }
   ],
   "source": [
    "model = grid.best_estimator_\n",
    "y_pred = model.predict(X_test)\n",
    "accuracy_score(y_test, y_pred)"
   ]
  },
  {
   "cell_type": "code",
   "execution_count": 78,
   "metadata": {},
   "outputs": [
    {
     "name": "stdout",
     "output_type": "stream",
     "text": [
      "              precision    recall  f1-score   support\n",
      "\n",
      "           0       0.82      0.70      0.76        20\n",
      "           1       0.88      0.93      0.90        45\n",
      "\n",
      "    accuracy                           0.86        65\n",
      "   macro avg       0.85      0.82      0.83        65\n",
      "weighted avg       0.86      0.86      0.86        65\n",
      "\n"
     ]
    }
   ],
   "source": [
    "print(classification_report(y_test, y_pred))"
   ]
  },
  {
   "cell_type": "code",
   "execution_count": 79,
   "metadata": {},
   "outputs": [
    {
     "data": {
      "image/png": "[encoded data removed]",
      "text/plain": [
       "<Figure size 432x288 with 2 Axes>"
      ]
     },
     "metadata": {
      "needs_background": "light"
     },
     "output_type": "display_data"
    }
   ],
   "source": [
    "pp.print_pretty_confusionMatrix(model, np.unique(y), X_test, y_test)"
   ]
  },
  {
   "cell_type": "markdown",
   "metadata": {},
   "source": [
    "Usando el kernel gaussiano y la optimizacion del modelo nos conduce a unas conclusiones parecidas. Todos los modelos hasta ahora parecen identificar bien los Placed, pero su precision es menor con los Not Placed."
   ]
  },
  {
   "cell_type": "markdown",
   "metadata": {},
   "source": [
    "Niguno de los modelos hasta ahora consigue bajar de 6 los false positive."
   ]
  },
  {
   "cell_type": "markdown",
   "metadata": {},
   "source": [
    "#### Clasificadores Bayesianos"
   ]
  },
  {
   "cell_type": "code",
   "execution_count": 80,
   "metadata": {},
   "outputs": [],
   "source": [
    "from sklearn.naive_bayes import GaussianNB"
   ]
  },
  {
   "cell_type": "code",
   "execution_count": 81,
   "metadata": {},
   "outputs": [
    {
     "data": {
      "text/plain": [
       "0.7538461538461538"
      ]
     },
     "execution_count": 81,
     "metadata": {},
     "output_type": "execute_result"
    }
   ],
   "source": [
    "clf_bayes = GaussianNB()\n",
    "clf_bayes.fit(X_train, y_train)\n",
    "y_pred = clf_bayes.predict(X_test)\n",
    "accuracy_score(y_test, y_pred)"
   ]
  },
  {
   "cell_type": "code",
   "execution_count": 82,
   "metadata": {},
   "outputs": [
    {
     "name": "stdout",
     "output_type": "stream",
     "text": [
      "              precision    recall  f1-score   support\n",
      "\n",
      "           0       0.60      0.60      0.60        20\n",
      "           1       0.82      0.82      0.82        45\n",
      "\n",
      "    accuracy                           0.75        65\n",
      "   macro avg       0.71      0.71      0.71        65\n",
      "weighted avg       0.75      0.75      0.75        65\n",
      "\n"
     ]
    }
   ],
   "source": [
    "print(classification_report(y_test, y_pred))"
   ]
  },
  {
   "cell_type": "code",
   "execution_count": 83,
   "metadata": {},
   "outputs": [
    {
     "data": {
      "image/png": "[encoded data removed]",
      "text/plain": [
       "<Figure size 432x288 with 2 Axes>"
      ]
     },
     "metadata": {
      "needs_background": "light"
     },
     "output_type": "display_data"
    }
   ],
   "source": [
    "pp.print_pretty_confusionMatrix(clf_bayes, np.unique(y), X_test, y_test)"
   ]
  },
  {
   "cell_type": "markdown",
   "metadata": {},
   "source": [
    "El modelo basado en teorema de Bayes da peores resultados que los anteriores. "
   ]
  },
  {
   "cell_type": "markdown",
   "metadata": {},
   "source": [
    "#### Bagging"
   ]
  },
  {
   "cell_type": "code",
   "execution_count": 84,
   "metadata": {},
   "outputs": [],
   "source": [
    "from sklearn.ensemble import BaggingClassifier"
   ]
  },
  {
   "cell_type": "markdown",
   "metadata": {},
   "source": [
    "Es importante tener en cuenta que todos los modelos se han entrenador con el mismo set de train y test, con otras reparticiones diferntes los modelos podrían dar resultados diferentes. En concordancia con esta idea, vamos a implementar técnicas de 'ensamble' con los modelos, dónde los set de train y test variaran."
   ]
  },
  {
   "cell_type": "markdown",
   "metadata": {},
   "source": [
    "Un clasificador 'Bagging' ajusta un modelo con diferentes submuestras del muestreo original y despues agrega todas las predicciones, ya bien sea con una media o por votaciones."
   ]
  },
  {
   "cell_type": "markdown",
   "metadata": {},
   "source": [
    "De esta manera nuestro clasificador es más robusto, y evitamos el riesgo de hacer overfitting sobre los datos de entrenamiento."
   ]
  },
  {
   "cell_type": "markdown",
   "metadata": {},
   "source": [
    "Vamos a probar este método con el SVM y con el clasificador Gaussiano; no lo usamos con el decision tree debido a que el random forest hace algo parecido. "
   ]
  },
  {
   "cell_type": "code",
   "execution_count": 85,
   "metadata": {},
   "outputs": [
    {
     "data": {
      "text/plain": [
       "0.8976744186046511"
      ]
     },
     "execution_count": 85,
     "metadata": {},
     "output_type": "execute_result"
    }
   ],
   "source": [
    "svm_bagging = BaggingClassifier(SVC(kernel='linear'), random_state = 0, n_jobs = -1, warm_start=True)\n",
    "svm_bagging.fit(X_scaled, y)\n",
    "svm_bagging.score(X_scaled, y)"
   ]
  },
  {
   "cell_type": "code",
   "execution_count": 86,
   "metadata": {},
   "outputs": [
    {
     "data": {
      "text/plain": [
       "0.9116279069767442"
      ]
     },
     "execution_count": 86,
     "metadata": {},
     "output_type": "execute_result"
    }
   ],
   "source": [
    "svm_bagging = BaggingClassifier(SVC(C=50, gamma = 0.005), random_state = 0, n_jobs = -1, warm_start=True)\n",
    "svm_bagging.fit(X_scaled, y)\n",
    "svm_bagging.score(X_scaled, y)"
   ]
  },
  {
   "cell_type": "markdown",
   "metadata": {},
   "source": [
    "Hemos usado los dos kernel que vimos antes con el SVM; los resultados son mejores. Aunque él mismo hacer train y test y calcula el accuracy, vamos a generar un modelo pasándole un train y test para visualizar la matriz de confusión y entender como esta actuando el modelo. "
   ]
  },
  {
   "cell_type": "code",
   "execution_count": 87,
   "metadata": {},
   "outputs": [
    {
     "data": {
      "text/plain": [
       "0.9"
      ]
     },
     "execution_count": 87,
     "metadata": {},
     "output_type": "execute_result"
    }
   ],
   "source": [
    "svm_bagging = BaggingClassifier(SVC(C=50, gamma = 0.005), random_state = 0, n_jobs = -1, warm_start=True)\n",
    "svm_bagging.fit(X_train, y_train)\n",
    "svm_bagging.score(X_train, y_train)"
   ]
  },
  {
   "cell_type": "markdown",
   "metadata": {},
   "source": [
    "Hacemos unas predicciones y testeamos los resultados"
   ]
  },
  {
   "cell_type": "code",
   "execution_count": 88,
   "metadata": {},
   "outputs": [
    {
     "data": {
      "text/plain": [
       "0.8923076923076924"
      ]
     },
     "execution_count": 88,
     "metadata": {},
     "output_type": "execute_result"
    }
   ],
   "source": [
    "y_pred = svm_bagging.predict(X_test)\n",
    "accuracy_score(y_test, y_pred)"
   ]
  },
  {
   "cell_type": "code",
   "execution_count": 89,
   "metadata": {},
   "outputs": [
    {
     "name": "stdout",
     "output_type": "stream",
     "text": [
      "              precision    recall  f1-score   support\n",
      "\n",
      "           0       0.93      0.70      0.80        20\n",
      "           1       0.88      0.98      0.93        45\n",
      "\n",
      "    accuracy                           0.89        65\n",
      "   macro avg       0.91      0.84      0.86        65\n",
      "weighted avg       0.90      0.89      0.89        65\n",
      "\n"
     ]
    }
   ],
   "source": [
    "print(classification_report(y_test, y_pred))"
   ]
  },
  {
   "cell_type": "markdown",
   "metadata": {},
   "source": [
    "Vemos que mejora en la precicion del Not Placed, pero no consigue aumentar el recall, resultamos parecidos al resto de modelos. Veamos en la matriz de confusión:"
   ]
  },
  {
   "cell_type": "code",
   "execution_count": 90,
   "metadata": {},
   "outputs": [
    {
     "data": {
      "image/png": "[encoded data removed]",
      "text/plain": [
       "<Figure size 432x288 with 2 Axes>"
      ]
     },
     "metadata": {
      "needs_background": "light"
     },
     "output_type": "display_data"
    }
   ],
   "source": [
    "pp.print_pretty_confusionMatrix(svm_bagging, np.unique(y), X_test, y_test)"
   ]
  },
  {
   "cell_type": "markdown",
   "metadata": {},
   "source": [
    "En efecto, el modelo mejora aún más las true positive, pero sigue sin poder clasificar bien esos 6 false positive. Todo parece indicar, que esos 6 alumnos representar outliers y ninguno de los modelos podrá clasificarlos correctamente. Esto es bueno, evitamos que el modelo se sobreentrene.  "
   ]
  },
  {
   "cell_type": "code",
   "execution_count": 91,
   "metadata": {},
   "outputs": [
    {
     "data": {
      "text/plain": [
       "0.8465116279069768"
      ]
     },
     "execution_count": 91,
     "metadata": {},
     "output_type": "execute_result"
    }
   ],
   "source": [
    "Gauss_bagging = BaggingClassifier(GaussianNB(), random_state = 0, n_jobs = -1, warm_start=True)\n",
    "Gauss_bagging.fit(X_scaled, y)\n",
    "Gauss_bagging.score(X_scaled, y)"
   ]
  },
  {
   "cell_type": "code",
   "execution_count": 92,
   "metadata": {},
   "outputs": [
    {
     "data": {
      "text/plain": [
       "0.7692307692307693"
      ]
     },
     "execution_count": 92,
     "metadata": {},
     "output_type": "execute_result"
    }
   ],
   "source": [
    "Gauss_bagging = BaggingClassifier(GaussianNB(), random_state = 0, n_jobs = -1, warm_start=True)\n",
    "Gauss_bagging.fit(X_train, y_train)\n",
    "y_pred =  Gauss_bagging.predict(X_test)\n",
    "accuracy_score(y_test, y_pred)"
   ]
  },
  {
   "cell_type": "code",
   "execution_count": 93,
   "metadata": {},
   "outputs": [
    {
     "name": "stdout",
     "output_type": "stream",
     "text": [
      "              precision    recall  f1-score   support\n",
      "\n",
      "           0       0.67      0.50      0.57        20\n",
      "           1       0.80      0.89      0.84        45\n",
      "\n",
      "    accuracy                           0.77        65\n",
      "   macro avg       0.73      0.69      0.71        65\n",
      "weighted avg       0.76      0.77      0.76        65\n",
      "\n"
     ]
    }
   ],
   "source": [
    "print(classification_report(y_test, y_pred))"
   ]
  },
  {
   "cell_type": "code",
   "execution_count": 94,
   "metadata": {},
   "outputs": [
    {
     "data": {
      "image/png": "[encoded data removed]",
      "text/plain": [
       "<Figure size 432x288 with 2 Axes>"
      ]
     },
     "metadata": {
      "needs_background": "light"
     },
     "output_type": "display_data"
    }
   ],
   "source": [
    "pp.print_pretty_confusionMatrix(Gauss_bagging, np.unique(y), X_test, y_test)"
   ]
  },
  {
   "cell_type": "markdown",
   "metadata": {},
   "source": [
    "Algo a tener en cuenta es la diferencia entre el accuracy del modelo la muestra completa, y el modelo con la particion train/test que parece indicar que la partición aleatoria `random_state = 0` en el split no optimiza el comportamiento del clasificador gaussiano. Por ese motivo es bueno usar el bagging con la muestra completa; así el modelo puede entrenar con varias submuestras y no condiciona su comportamiento a una única partición. "
   ]
  },
  {
   "cell_type": "markdown",
   "metadata": {},
   "source": [
    "En concordancia con lo dicho, el modelo Gaussiano con este dataset tiene un accuracy medio de 85% y no el 75% que veiamos antes. Simplemente se puede dar la casualidad de que una partición train/test en concreto le beneficie a un modelo u a otro. "
   ]
  },
  {
   "cell_type": "markdown",
   "metadata": {},
   "source": [
    "Después de ver y comparar todos los modelos propuesto, vemos que el que mejor accuracy ha tenido a sido el SVM con un kernel gaussiano (además de optimizar su parámetros y realizar bagging). Lo cual no es de estrañar del todo ya que muchas de las variables finalmente escogidas veíamos en el analisis exploratorio inicial que tenian distribuciones Gaussianas. "
   ]
  },
  {
   "cell_type": "markdown",
   "metadata": {},
   "source": [
    "![Error al cargar la imagen](imagenes/distgauss.png) "
   ]
  },
  {
   "cell_type": "markdown",
   "metadata": {},
   "source": [
    "También cabe recordar esos false positive que ninguno de los modelos ha sido capaz de clasificar. Como ya hemos comentado anteriormente lo más probable es que se deban a outliers y es bueno entonces que el modelo no los clasifique correctamente. Un análisis más exaustivo de esos outliers en concreto podría ser conveniente aquí."
   ]
  },
  {
   "cell_type": "markdown",
   "metadata": {},
   "source": [
    "### Problema de Regresión: Estimar el salario"
   ]
  },
  {
   "cell_type": "code",
   "execution_count": 95,
   "metadata": {},
   "outputs": [],
   "source": [
    "from sklearn.linear_model import LinearRegression\n",
    "from sklearn.metrics import r2_score\n",
    "import statsmodels.api as sm\n",
    "from scipy.stats import pearsonr"
   ]
  },
  {
   "cell_type": "markdown",
   "metadata": {},
   "source": [
    "Para el análisis de regresión cambiamos de variable objetivo. Además, recordamos que para los alumnos que no obtuvieron plaza su salario aparecia como `Nan`.   "
   ]
  },
  {
   "cell_type": "markdown",
   "metadata": {},
   "source": [
    "Para seguir con el análisis, por lo tanto, habrá que prescindir de aquellos alumnos que no obtuvieron plaza, y realizar la regresión con los que si la obtuvieron y por lo tanto recibieron un salario (oferta de)."
   ]
  },
  {
   "cell_type": "code",
   "execution_count": 132,
   "metadata": {},
   "outputs": [],
   "source": [
    "data_reg = dataframe.dropna().drop('status', axis = 1)"
   ]
  },
  {
   "cell_type": "code",
   "execution_count": 97,
   "metadata": {},
   "outputs": [
    {
     "data": {
      "text/html": [
       "<div>\n",
       "<style scoped>\n",
       "    .dataframe tbody tr th:only-of-type {\n",
       "        vertical-align: middle;\n",
       "    }\n",
       "\n",
       "    .dataframe tbody tr th {\n",
       "        vertical-align: top;\n",
       "    }\n",
       "\n",
       "    .dataframe thead th {\n",
       "        text-align: right;\n",
       "    }\n",
       "</style>\n",
       "<table border=\"1\" class=\"dataframe\">\n",
       "  <thead>\n",
       "    <tr style=\"text-align: right;\">\n",
       "      <th></th>\n",
       "      <th>gender</th>\n",
       "      <th>ssc_p</th>\n",
       "      <th>ssc_b</th>\n",
       "      <th>hsc_p</th>\n",
       "      <th>hsc_b</th>\n",
       "      <th>hsc_s</th>\n",
       "      <th>degree_p</th>\n",
       "      <th>degree_t</th>\n",
       "      <th>workex</th>\n",
       "      <th>etest_p</th>\n",
       "      <th>specialisation</th>\n",
       "      <th>mba_p</th>\n",
       "      <th>salary</th>\n",
       "    </tr>\n",
       "  </thead>\n",
       "  <tbody>\n",
       "    <tr>\n",
       "      <th>0</th>\n",
       "      <td>M</td>\n",
       "      <td>67.00</td>\n",
       "      <td>Others</td>\n",
       "      <td>91.00</td>\n",
       "      <td>Others</td>\n",
       "      <td>Commerce</td>\n",
       "      <td>58.00</td>\n",
       "      <td>Sci&amp;Tech</td>\n",
       "      <td>No</td>\n",
       "      <td>55.0</td>\n",
       "      <td>Mkt&amp;HR</td>\n",
       "      <td>58.80</td>\n",
       "      <td>270000.0</td>\n",
       "    </tr>\n",
       "    <tr>\n",
       "      <th>1</th>\n",
       "      <td>M</td>\n",
       "      <td>79.33</td>\n",
       "      <td>Central</td>\n",
       "      <td>78.33</td>\n",
       "      <td>Others</td>\n",
       "      <td>Science</td>\n",
       "      <td>77.48</td>\n",
       "      <td>Sci&amp;Tech</td>\n",
       "      <td>Yes</td>\n",
       "      <td>86.5</td>\n",
       "      <td>Mkt&amp;Fin</td>\n",
       "      <td>66.28</td>\n",
       "      <td>200000.0</td>\n",
       "    </tr>\n",
       "    <tr>\n",
       "      <th>2</th>\n",
       "      <td>M</td>\n",
       "      <td>65.00</td>\n",
       "      <td>Central</td>\n",
       "      <td>68.00</td>\n",
       "      <td>Central</td>\n",
       "      <td>Arts</td>\n",
       "      <td>64.00</td>\n",
       "      <td>Comm&amp;Mgmt</td>\n",
       "      <td>No</td>\n",
       "      <td>75.0</td>\n",
       "      <td>Mkt&amp;Fin</td>\n",
       "      <td>57.80</td>\n",
       "      <td>250000.0</td>\n",
       "    </tr>\n",
       "    <tr>\n",
       "      <th>4</th>\n",
       "      <td>M</td>\n",
       "      <td>85.80</td>\n",
       "      <td>Central</td>\n",
       "      <td>73.60</td>\n",
       "      <td>Central</td>\n",
       "      <td>Commerce</td>\n",
       "      <td>73.30</td>\n",
       "      <td>Comm&amp;Mgmt</td>\n",
       "      <td>No</td>\n",
       "      <td>96.8</td>\n",
       "      <td>Mkt&amp;Fin</td>\n",
       "      <td>55.50</td>\n",
       "      <td>425000.0</td>\n",
       "    </tr>\n",
       "    <tr>\n",
       "      <th>7</th>\n",
       "      <td>M</td>\n",
       "      <td>82.00</td>\n",
       "      <td>Central</td>\n",
       "      <td>64.00</td>\n",
       "      <td>Central</td>\n",
       "      <td>Science</td>\n",
       "      <td>66.00</td>\n",
       "      <td>Sci&amp;Tech</td>\n",
       "      <td>Yes</td>\n",
       "      <td>67.0</td>\n",
       "      <td>Mkt&amp;Fin</td>\n",
       "      <td>62.14</td>\n",
       "      <td>252000.0</td>\n",
       "    </tr>\n",
       "  </tbody>\n",
       "</table>\n",
       "</div>"
      ],
      "text/plain": [
       "  gender  ssc_p    ssc_b  hsc_p    hsc_b     hsc_s  degree_p   degree_t  \\\n",
       "0      M  67.00   Others  91.00   Others  Commerce     58.00   Sci&Tech   \n",
       "1      M  79.33  Central  78.33   Others   Science     77.48   Sci&Tech   \n",
       "2      M  65.00  Central  68.00  Central      Arts     64.00  Comm&Mgmt   \n",
       "4      M  85.80  Central  73.60  Central  Commerce     73.30  Comm&Mgmt   \n",
       "7      M  82.00  Central  64.00  Central   Science     66.00   Sci&Tech   \n",
       "\n",
       "  workex  etest_p specialisation  mba_p    salary  \n",
       "0     No     55.0         Mkt&HR  58.80  270000.0  \n",
       "1    Yes     86.5        Mkt&Fin  66.28  200000.0  \n",
       "2     No     75.0        Mkt&Fin  57.80  250000.0  \n",
       "4     No     96.8        Mkt&Fin  55.50  425000.0  \n",
       "7    Yes     67.0        Mkt&Fin  62.14  252000.0  "
      ]
     },
     "execution_count": 97,
     "metadata": {},
     "output_type": "execute_result"
    }
   ],
   "source": [
    "data_reg.head()"
   ]
  },
  {
   "cell_type": "markdown",
   "metadata": {},
   "source": [
    "Como hemos visto antes, existen outliers. Para normalizar un poco la distribución del salario vamos a eliminar esos outliers, ya que es poco probable obtener esas ofertas de salario. "
   ]
  },
  {
   "cell_type": "code",
   "execution_count": 98,
   "metadata": {},
   "outputs": [
    {
     "data": {
      "text/plain": [
       "423250.00000000006"
      ]
     },
     "execution_count": 98,
     "metadata": {},
     "output_type": "execute_result"
    }
   ],
   "source": [
    "q = np.quantile(data_reg['salary'], 0.95)\n",
    "q"
   ]
  },
  {
   "cell_type": "markdown",
   "metadata": {},
   "source": [
    "Si calculamos el percentil, vemos que el 95% de la población se encuentra por debajo de 423.25k. Por lo tanto, vamos a eliminar del dataset esos valores extremos que se encuentre por encima de dicho salario. "
   ]
  },
  {
   "cell_type": "code",
   "execution_count": 99,
   "metadata": {},
   "outputs": [
    {
     "data": {
      "image/png": "[encoded data removed]",
      "text/plain": [
       "<Figure size 432x288 with 1 Axes>"
      ]
     },
     "metadata": {
      "needs_background": "light"
     },
     "output_type": "display_data"
    }
   ],
   "source": [
    "sns.kdeplot('salary', data = data_reg)\n",
    "plt.axvline(q, ls = '--',label = 'Percentil 95')\n",
    "plt.legend(loc=0);"
   ]
  },
  {
   "cell_type": "code",
   "execution_count": 133,
   "metadata": {},
   "outputs": [],
   "source": [
    "reg_norm = data_reg[data_reg['salary']<q].reset_index().drop('index', axis = 1)"
   ]
  },
  {
   "cell_type": "code",
   "execution_count": 101,
   "metadata": {},
   "outputs": [
    {
     "data": {
      "text/plain": [
       "<AxesSubplot:xlabel='salary', ylabel='Density'>"
      ]
     },
     "execution_count": 101,
     "metadata": {},
     "output_type": "execute_result"
    },
    {
     "data": {
      "image/png": "[encoded data removed]",
      "text/plain": [
       "<Figure size 432x288 with 1 Axes>"
      ]
     },
     "metadata": {
      "needs_background": "light"
     },
     "output_type": "display_data"
    }
   ],
   "source": [
    "sns.kdeplot('salary', data = reg_norm)"
   ]
  },
  {
   "cell_type": "markdown",
   "metadata": {},
   "source": [
    "En este gráfico se puede observar, como la distribución se asemeja más a una distribución normal. "
   ]
  },
  {
   "cell_type": "markdown",
   "metadata": {},
   "source": [
    "Otra buena implementación, sobretodo con variables monetarias, es calcular el logaritmo. Esto reduce aún más el efecto que tienen los valores extremos en los resultados y facilita la interpretación en la regresión; podemos pasar a hablar de aumentos porcentuales en vez de aumentos unitarios (lo cual tiene sentido si hablamos de variables monetarias)."
   ]
  },
  {
   "cell_type": "code",
   "execution_count": 134,
   "metadata": {},
   "outputs": [],
   "source": [
    "reg_norm['Log_salary'] = np.log(reg_norm['salary'])"
   ]
  },
  {
   "cell_type": "code",
   "execution_count": 103,
   "metadata": {},
   "outputs": [
    {
     "data": {
      "text/plain": [
       "<AxesSubplot:xlabel='Log_salary', ylabel='Density'>"
      ]
     },
     "execution_count": 103,
     "metadata": {},
     "output_type": "execute_result"
    },
    {
     "data": {
      "image/png": "[encoded data removed]",
      "text/plain": [
       "<Figure size 432x288 with 1 Axes>"
      ]
     },
     "metadata": {
      "needs_background": "light"
     },
     "output_type": "display_data"
    }
   ],
   "source": [
    "sns.kdeplot('Log_salary', data = reg_norm)"
   ]
  },
  {
   "cell_type": "markdown",
   "metadata": {},
   "source": [
    "Separamos las variables independientes, de la variable dependiente: "
   ]
  },
  {
   "cell_type": "markdown",
   "metadata": {},
   "source": [
    "Un paso previo será, pasar de variables categóricas a variables dummy, ya que la regresión ha de hacerse con variables numéricas. Aunque en el análisis exploratorio encontramos relevantes únicamente las variables: el género `gender`, el tipo de grado `degree_t` y la especialización en la educación secundaria `hsc_s`, vamos a calcular el coeficiente de Pearson de todas las variables con el salario, para ver si existe alguna correlación que no se pudo distinguir en el análisis visual:"
   ]
  },
  {
   "cell_type": "code",
   "execution_count": 104,
   "metadata": {},
   "outputs": [
    {
     "name": "stdout",
     "output_type": "stream",
     "text": [
      "ssc_p : (0.16803528215704733, 0.0471968684165342)\n",
      "hsc_p : (0.10983717169205436, 0.19640155215474323)\n",
      "degree_p : (0.059648512832375544, 0.4838855578677323)\n",
      "etest_p : (0.2483055165135936, 0.003095192222653207)\n",
      "mba_p : (0.20228851370908818, 0.016535080123210154)\n",
      "gender_F : (-0.20370575274458536, 0.01577680841726472)\n",
      "gender_M : (0.20370575274458536, 0.01577680841726472)\n",
      "ssc_b_Central : (-0.09405364887890381, 0.26901544160785656)\n",
      "ssc_b_Others : (0.09405364887890381, 0.26901544160785656)\n",
      "hsc_b_Central : (-0.058861320514863404, 0.4896838380209357)\n",
      "hsc_b_Others : (0.05886132051486339, 0.4896838380209357)\n",
      "hsc_s_Arts : (-0.09460511313422341, 0.26620575823236814)\n",
      "hsc_s_Commerce : (0.009206088042332418, 0.9140325014677902)\n",
      "hsc_s_Science : (0.029587473975354002, 0.7285755083943442)\n",
      "degree_t_Comm&Mgmt : (-0.1631755082489952, 0.05406188172581481)\n",
      "degree_t_Others : (0.03815014000092128, 0.6545036040584992)\n",
      "degree_t_Sci&Tech : (0.15370255443814973, 0.06981363575636369)\n",
      "workex_No : (-0.030952814463642127, 0.7165733948441031)\n",
      "workex_Yes : (0.030952814463642134, 0.7165733948441031)\n",
      "specialisation_Mkt&Fin : (0.07974156744560763, 0.3489909366592757)\n",
      "specialisation_Mkt&HR : (-0.07974156744560763, 0.3489909366592757)\n"
     ]
    }
   ],
   "source": [
    "reg_norm_dummies = pd.get_dummies(reg_norm)\n",
    "for variable in reg_norm_dummies.columns:\n",
    "    pearson = pearsonr(reg_norm_dummies[variable], reg_norm_dummies['Log_salary'])\n",
    "    if variable not in ['salary','Log_salary']:\n",
    "        print(variable , ':' , pearson )"
   ]
  },
  {
   "cell_type": "markdown",
   "metadata": {},
   "source": [
    "Como vemos ya habiamos intuido con el análisis inicial, no existen correlaciones fuertes entre las variables explicativas y el salario. Para realizar un buen análisis será conveniente unas correlaciones cercanas o superiores a 0.7. Sin embargo, ninguna variable supera el 0.3."
   ]
  },
  {
   "cell_type": "markdown",
   "metadata": {},
   "source": [
    "Si realizamos la regresión, podroemos ver si alguna de las variables es significativa al 95%, teniendo en cuenta un p-valor < 0.05:"
   ]
  },
  {
   "cell_type": "code",
   "execution_count": 135,
   "metadata": {},
   "outputs": [],
   "source": [
    "reg_data = pd.get_dummies(reg_norm, drop_first= True).drop('salary', axis = 1)"
   ]
  },
  {
   "cell_type": "markdown",
   "metadata": {},
   "source": [
    "Es importante `drop_first = True` ya que sino se introduciría multicolinealidad en el modelo. "
   ]
  },
  {
   "cell_type": "code",
   "execution_count": 136,
   "metadata": {},
   "outputs": [
    {
     "data": {
      "text/html": [
       "<div>\n",
       "<style scoped>\n",
       "    .dataframe tbody tr th:only-of-type {\n",
       "        vertical-align: middle;\n",
       "    }\n",
       "\n",
       "    .dataframe tbody tr th {\n",
       "        vertical-align: top;\n",
       "    }\n",
       "\n",
       "    .dataframe thead th {\n",
       "        text-align: right;\n",
       "    }\n",
       "</style>\n",
       "<table border=\"1\" class=\"dataframe\">\n",
       "  <thead>\n",
       "    <tr style=\"text-align: right;\">\n",
       "      <th></th>\n",
       "      <th>ssc_p</th>\n",
       "      <th>hsc_p</th>\n",
       "      <th>degree_p</th>\n",
       "      <th>etest_p</th>\n",
       "      <th>mba_p</th>\n",
       "      <th>Log_salary</th>\n",
       "      <th>gender_M</th>\n",
       "      <th>ssc_b_Others</th>\n",
       "      <th>hsc_b_Others</th>\n",
       "      <th>hsc_s_Commerce</th>\n",
       "      <th>hsc_s_Science</th>\n",
       "      <th>degree_t_Others</th>\n",
       "      <th>degree_t_Sci&amp;Tech</th>\n",
       "      <th>workex_Yes</th>\n",
       "      <th>specialisation_Mkt&amp;HR</th>\n",
       "    </tr>\n",
       "  </thead>\n",
       "  <tbody>\n",
       "    <tr>\n",
       "      <th>0</th>\n",
       "      <td>67.00</td>\n",
       "      <td>91.00</td>\n",
       "      <td>58.00</td>\n",
       "      <td>55.00</td>\n",
       "      <td>58.80</td>\n",
       "      <td>12.506177</td>\n",
       "      <td>1</td>\n",
       "      <td>1</td>\n",
       "      <td>1</td>\n",
       "      <td>1</td>\n",
       "      <td>0</td>\n",
       "      <td>0</td>\n",
       "      <td>1</td>\n",
       "      <td>0</td>\n",
       "      <td>1</td>\n",
       "    </tr>\n",
       "    <tr>\n",
       "      <th>1</th>\n",
       "      <td>79.33</td>\n",
       "      <td>78.33</td>\n",
       "      <td>77.48</td>\n",
       "      <td>86.50</td>\n",
       "      <td>66.28</td>\n",
       "      <td>12.206073</td>\n",
       "      <td>1</td>\n",
       "      <td>0</td>\n",
       "      <td>1</td>\n",
       "      <td>0</td>\n",
       "      <td>1</td>\n",
       "      <td>0</td>\n",
       "      <td>1</td>\n",
       "      <td>1</td>\n",
       "      <td>0</td>\n",
       "    </tr>\n",
       "    <tr>\n",
       "      <th>2</th>\n",
       "      <td>65.00</td>\n",
       "      <td>68.00</td>\n",
       "      <td>64.00</td>\n",
       "      <td>75.00</td>\n",
       "      <td>57.80</td>\n",
       "      <td>12.429216</td>\n",
       "      <td>1</td>\n",
       "      <td>0</td>\n",
       "      <td>0</td>\n",
       "      <td>0</td>\n",
       "      <td>0</td>\n",
       "      <td>0</td>\n",
       "      <td>0</td>\n",
       "      <td>0</td>\n",
       "      <td>0</td>\n",
       "    </tr>\n",
       "    <tr>\n",
       "      <th>3</th>\n",
       "      <td>82.00</td>\n",
       "      <td>64.00</td>\n",
       "      <td>66.00</td>\n",
       "      <td>67.00</td>\n",
       "      <td>62.14</td>\n",
       "      <td>12.437184</td>\n",
       "      <td>1</td>\n",
       "      <td>0</td>\n",
       "      <td>0</td>\n",
       "      <td>0</td>\n",
       "      <td>1</td>\n",
       "      <td>0</td>\n",
       "      <td>1</td>\n",
       "      <td>1</td>\n",
       "      <td>0</td>\n",
       "    </tr>\n",
       "    <tr>\n",
       "      <th>4</th>\n",
       "      <td>73.00</td>\n",
       "      <td>79.00</td>\n",
       "      <td>72.00</td>\n",
       "      <td>91.34</td>\n",
       "      <td>61.29</td>\n",
       "      <td>12.350173</td>\n",
       "      <td>1</td>\n",
       "      <td>0</td>\n",
       "      <td>0</td>\n",
       "      <td>1</td>\n",
       "      <td>0</td>\n",
       "      <td>0</td>\n",
       "      <td>0</td>\n",
       "      <td>0</td>\n",
       "      <td>0</td>\n",
       "    </tr>\n",
       "  </tbody>\n",
       "</table>\n",
       "</div>"
      ],
      "text/plain": [
       "   ssc_p  hsc_p  degree_p  etest_p  mba_p  Log_salary  gender_M  ssc_b_Others  \\\n",
       "0  67.00  91.00     58.00    55.00  58.80   12.506177         1             1   \n",
       "1  79.33  78.33     77.48    86.50  66.28   12.206073         1             0   \n",
       "2  65.00  68.00     64.00    75.00  57.80   12.429216         1             0   \n",
       "3  82.00  64.00     66.00    67.00  62.14   12.437184         1             0   \n",
       "4  73.00  79.00     72.00    91.34  61.29   12.350173         1             0   \n",
       "\n",
       "   hsc_b_Others  hsc_s_Commerce  hsc_s_Science  degree_t_Others  \\\n",
       "0             1               1              0                0   \n",
       "1             1               0              1                0   \n",
       "2             0               0              0                0   \n",
       "3             0               0              1                0   \n",
       "4             0               1              0                0   \n",
       "\n",
       "   degree_t_Sci&Tech  workex_Yes  specialisation_Mkt&HR  \n",
       "0                  1           0                      1  \n",
       "1                  1           1                      0  \n",
       "2                  0           0                      0  \n",
       "3                  1           1                      0  \n",
       "4                  0           0                      0  "
      ]
     },
     "execution_count": 136,
     "metadata": {},
     "output_type": "execute_result"
    }
   ],
   "source": [
    "reg_data.head()"
   ]
  },
  {
   "cell_type": "markdown",
   "metadata": {},
   "source": [
    "Separamos entre variables explicativas `X` y variable explicada `y`:"
   ]
  },
  {
   "cell_type": "code",
   "execution_count": 137,
   "metadata": {},
   "outputs": [],
   "source": [
    "X, y = reg_data.drop('Log_salary', axis = 1), reg_data.loc[:,'Log_salary']"
   ]
  },
  {
   "cell_type": "markdown",
   "metadata": {},
   "source": [
    "Primero con la libreria `scikit learn`:"
   ]
  },
  {
   "cell_type": "code",
   "execution_count": 108,
   "metadata": {},
   "outputs": [
    {
     "data": {
      "text/plain": [
       "0.1773584399025655"
      ]
     },
     "execution_count": 108,
     "metadata": {},
     "output_type": "execute_result"
    }
   ],
   "source": [
    "model = LinearRegression(fit_intercept=True, normalize=True)\n",
    "model.fit(X, y)\n",
    "y_pred = model.predict(X)\n",
    "r2_score(y, y_pred)"
   ]
  },
  {
   "cell_type": "markdown",
   "metadata": {},
   "source": [
    "La libreria `statsmodels` nos permite ver algunos estadísticos más"
   ]
  },
  {
   "cell_type": "code",
   "execution_count": 109,
   "metadata": {},
   "outputs": [
    {
     "data": {
      "text/html": [
       "<table class=\"simpletable\">\n",
       "<caption>OLS Regression Results</caption>\n",
       "<tr>\n",
       "  <th>Dep. Variable:</th>       <td>Log_salary</td>    <th>  R-squared:         </th> <td>   0.177</td>\n",
       "</tr>\n",
       "<tr>\n",
       "  <th>Model:</th>                   <td>OLS</td>       <th>  Adj. R-squared:    </th> <td>   0.085</td>\n",
       "</tr>\n",
       "<tr>\n",
       "  <th>Method:</th>             <td>Least Squares</td>  <th>  F-statistic:       </th> <td>   1.925</td>\n",
       "</tr>\n",
       "<tr>\n",
       "  <th>Date:</th>             <td>Sun, 02 May 2021</td> <th>  Prob (F-statistic):</th>  <td>0.0296</td> \n",
       "</tr>\n",
       "<tr>\n",
       "  <th>Time:</th>                 <td>20:01:44</td>     <th>  Log-Likelihood:    </th> <td>  59.758</td>\n",
       "</tr>\n",
       "<tr>\n",
       "  <th>No. Observations:</th>      <td>   140</td>      <th>  AIC:               </th> <td>  -89.52</td>\n",
       "</tr>\n",
       "<tr>\n",
       "  <th>Df Residuals:</th>          <td>   125</td>      <th>  BIC:               </th> <td>  -45.39</td>\n",
       "</tr>\n",
       "<tr>\n",
       "  <th>Df Model:</th>              <td>    14</td>      <th>                     </th>     <td> </td>   \n",
       "</tr>\n",
       "<tr>\n",
       "  <th>Covariance Type:</th>      <td>nonrobust</td>    <th>                     </th>     <td> </td>   \n",
       "</tr>\n",
       "</table>\n",
       "<table class=\"simpletable\">\n",
       "<tr>\n",
       "            <td></td>               <th>coef</th>     <th>std err</th>      <th>t</th>      <th>P>|t|</th>  <th>[0.025</th>    <th>0.975]</th>  \n",
       "</tr>\n",
       "<tr>\n",
       "  <th>const</th>                 <td>   11.8553</td> <td>    0.215</td> <td>   55.097</td> <td> 0.000</td> <td>   11.429</td> <td>   12.281</td>\n",
       "</tr>\n",
       "<tr>\n",
       "  <th>ssc_p</th>                 <td>    0.0013</td> <td>    0.002</td> <td>    0.593</td> <td> 0.554</td> <td>   -0.003</td> <td>    0.006</td>\n",
       "</tr>\n",
       "<tr>\n",
       "  <th>hsc_p</th>                 <td>   -0.0010</td> <td>    0.002</td> <td>   -0.486</td> <td> 0.628</td> <td>   -0.005</td> <td>    0.003</td>\n",
       "</tr>\n",
       "<tr>\n",
       "  <th>degree_p</th>              <td>   -0.0016</td> <td>    0.003</td> <td>   -0.593</td> <td> 0.554</td> <td>   -0.007</td> <td>    0.004</td>\n",
       "</tr>\n",
       "<tr>\n",
       "  <th>etest_p</th>               <td>    0.0017</td> <td>    0.001</td> <td>    1.412</td> <td> 0.160</td> <td>   -0.001</td> <td>    0.004</td>\n",
       "</tr>\n",
       "<tr>\n",
       "  <th>mba_p</th>                 <td>    0.0072</td> <td>    0.003</td> <td>    2.174</td> <td> 0.032</td> <td>    0.001</td> <td>    0.014</td>\n",
       "</tr>\n",
       "<tr>\n",
       "  <th>gender_M</th>              <td>    0.0895</td> <td>    0.034</td> <td>    2.662</td> <td> 0.009</td> <td>    0.023</td> <td>    0.156</td>\n",
       "</tr>\n",
       "<tr>\n",
       "  <th>ssc_b_Others</th>          <td>    0.0082</td> <td>    0.041</td> <td>    0.201</td> <td> 0.841</td> <td>   -0.072</td> <td>    0.089</td>\n",
       "</tr>\n",
       "<tr>\n",
       "  <th>hsc_b_Others</th>          <td>    0.0046</td> <td>    0.040</td> <td>    0.115</td> <td> 0.909</td> <td>   -0.074</td> <td>    0.083</td>\n",
       "</tr>\n",
       "<tr>\n",
       "  <th>hsc_s_Commerce</th>        <td>    0.1029</td> <td>    0.081</td> <td>    1.273</td> <td> 0.205</td> <td>   -0.057</td> <td>    0.263</td>\n",
       "</tr>\n",
       "<tr>\n",
       "  <th>hsc_s_Science</th>         <td>    0.0466</td> <td>    0.087</td> <td>    0.533</td> <td> 0.595</td> <td>   -0.126</td> <td>    0.220</td>\n",
       "</tr>\n",
       "<tr>\n",
       "  <th>degree_t_Others</th>       <td>    0.1448</td> <td>    0.088</td> <td>    1.638</td> <td> 0.104</td> <td>   -0.030</td> <td>    0.320</td>\n",
       "</tr>\n",
       "<tr>\n",
       "  <th>degree_t_Sci&Tech</th>     <td>    0.0794</td> <td>    0.047</td> <td>    1.686</td> <td> 0.094</td> <td>   -0.014</td> <td>    0.173</td>\n",
       "</tr>\n",
       "<tr>\n",
       "  <th>workex_Yes</th>            <td>   -0.0249</td> <td>    0.031</td> <td>   -0.797</td> <td> 0.427</td> <td>   -0.087</td> <td>    0.037</td>\n",
       "</tr>\n",
       "<tr>\n",
       "  <th>specialisation_Mkt&HR</th> <td>   -0.0007</td> <td>    0.032</td> <td>   -0.021</td> <td> 0.983</td> <td>   -0.065</td> <td>    0.063</td>\n",
       "</tr>\n",
       "</table>\n",
       "<table class=\"simpletable\">\n",
       "<tr>\n",
       "  <th>Omnibus:</th>       <td> 2.472</td> <th>  Durbin-Watson:     </th> <td>   1.881</td>\n",
       "</tr>\n",
       "<tr>\n",
       "  <th>Prob(Omnibus):</th> <td> 0.291</td> <th>  Jarque-Bera (JB):  </th> <td>   2.321</td>\n",
       "</tr>\n",
       "<tr>\n",
       "  <th>Skew:</th>          <td> 0.315</td> <th>  Prob(JB):          </th> <td>   0.313</td>\n",
       "</tr>\n",
       "<tr>\n",
       "  <th>Kurtosis:</th>      <td> 2.963</td> <th>  Cond. No.          </th> <td>2.41e+03</td>\n",
       "</tr>\n",
       "</table><br/><br/>Notes:<br/>[1] Standard Errors assume that the covariance matrix of the errors is correctly specified.<br/>[2] The condition number is large, 2.41e+03. This might indicate that there are<br/>strong multicollinearity or other numerical problems."
      ],
      "text/plain": [
       "<class 'statsmodels.iolib.summary.Summary'>\n",
       "\"\"\"\n",
       "                            OLS Regression Results                            \n",
       "==============================================================================\n",
       "Dep. Variable:             Log_salary   R-squared:                       0.177\n",
       "Model:                            OLS   Adj. R-squared:                  0.085\n",
       "Method:                 Least Squares   F-statistic:                     1.925\n",
       "Date:                Sun, 02 May 2021   Prob (F-statistic):             0.0296\n",
       "Time:                        20:01:44   Log-Likelihood:                 59.758\n",
       "No. Observations:                 140   AIC:                            -89.52\n",
       "Df Residuals:                     125   BIC:                            -45.39\n",
       "Df Model:                          14                                         \n",
       "Covariance Type:            nonrobust                                         \n",
       "=========================================================================================\n",
       "                            coef    std err          t      P>|t|      [0.025      0.975]\n",
       "-----------------------------------------------------------------------------------------\n",
       "const                    11.8553      0.215     55.097      0.000      11.429      12.281\n",
       "ssc_p                     0.0013      0.002      0.593      0.554      -0.003       0.006\n",
       "hsc_p                    -0.0010      0.002     -0.486      0.628      -0.005       0.003\n",
       "degree_p                 -0.0016      0.003     -0.593      0.554      -0.007       0.004\n",
       "etest_p                   0.0017      0.001      1.412      0.160      -0.001       0.004\n",
       "mba_p                     0.0072      0.003      2.174      0.032       0.001       0.014\n",
       "gender_M                  0.0895      0.034      2.662      0.009       0.023       0.156\n",
       "ssc_b_Others              0.0082      0.041      0.201      0.841      -0.072       0.089\n",
       "hsc_b_Others              0.0046      0.040      0.115      0.909      -0.074       0.083\n",
       "hsc_s_Commerce            0.1029      0.081      1.273      0.205      -0.057       0.263\n",
       "hsc_s_Science             0.0466      0.087      0.533      0.595      -0.126       0.220\n",
       "degree_t_Others           0.1448      0.088      1.638      0.104      -0.030       0.320\n",
       "degree_t_Sci&Tech         0.0794      0.047      1.686      0.094      -0.014       0.173\n",
       "workex_Yes               -0.0249      0.031     -0.797      0.427      -0.087       0.037\n",
       "specialisation_Mkt&HR    -0.0007      0.032     -0.021      0.983      -0.065       0.063\n",
       "==============================================================================\n",
       "Omnibus:                        2.472   Durbin-Watson:                   1.881\n",
       "Prob(Omnibus):                  0.291   Jarque-Bera (JB):                2.321\n",
       "Skew:                           0.315   Prob(JB):                        0.313\n",
       "Kurtosis:                       2.963   Cond. No.                     2.41e+03\n",
       "==============================================================================\n",
       "\n",
       "Notes:\n",
       "[1] Standard Errors assume that the covariance matrix of the errors is correctly specified.\n",
       "[2] The condition number is large, 2.41e+03. This might indicate that there are\n",
       "strong multicollinearity or other numerical problems.\n",
       "\"\"\""
      ]
     },
     "execution_count": 109,
     "metadata": {},
     "output_type": "execute_result"
    }
   ],
   "source": [
    "x = sm.add_constant(X) \n",
    "ols = sm.OLS(y, x)\n",
    "results = ols.fit()\n",
    "results.summary()"
   ]
  },
  {
   "cell_type": "markdown",
   "metadata": {},
   "source": [
    "Vemos que el modelo es muy pobre, únicamente logra explicar un 17% de la variación en el salario. Además, solamente el género y la nota del MBA son significativs al 5%. "
   ]
  },
  {
   "cell_type": "markdown",
   "metadata": {},
   "source": [
    "Vamos a especificar un modelo más simple, con únicamente esos dos parámetros:"
   ]
  },
  {
   "cell_type": "code",
   "execution_count": 110,
   "metadata": {},
   "outputs": [
    {
     "data": {
      "text/html": [
       "<table class=\"simpletable\">\n",
       "<caption>OLS Regression Results</caption>\n",
       "<tr>\n",
       "  <th>Dep. Variable:</th>       <td>Log_salary</td>    <th>  R-squared:         </th> <td>   0.109</td>\n",
       "</tr>\n",
       "<tr>\n",
       "  <th>Model:</th>                   <td>OLS</td>       <th>  Adj. R-squared:    </th> <td>   0.096</td>\n",
       "</tr>\n",
       "<tr>\n",
       "  <th>Method:</th>             <td>Least Squares</td>  <th>  F-statistic:       </th> <td>   8.349</td>\n",
       "</tr>\n",
       "<tr>\n",
       "  <th>Date:</th>             <td>Sun, 02 May 2021</td> <th>  Prob (F-statistic):</th> <td>0.000379</td>\n",
       "</tr>\n",
       "<tr>\n",
       "  <th>Time:</th>                 <td>20:01:44</td>     <th>  Log-Likelihood:    </th> <td>  54.142</td>\n",
       "</tr>\n",
       "<tr>\n",
       "  <th>No. Observations:</th>      <td>   140</td>      <th>  AIC:               </th> <td>  -102.3</td>\n",
       "</tr>\n",
       "<tr>\n",
       "  <th>Df Residuals:</th>          <td>   137</td>      <th>  BIC:               </th> <td>  -93.46</td>\n",
       "</tr>\n",
       "<tr>\n",
       "  <th>Df Model:</th>              <td>     2</td>      <th>                     </th>     <td> </td>   \n",
       "</tr>\n",
       "<tr>\n",
       "  <th>Covariance Type:</th>      <td>nonrobust</td>    <th>                     </th>     <td> </td>   \n",
       "</tr>\n",
       "</table>\n",
       "<table class=\"simpletable\">\n",
       "<tr>\n",
       "      <td></td>        <th>coef</th>     <th>std err</th>      <th>t</th>      <th>P>|t|</th>  <th>[0.025</th>    <th>0.975]</th>  \n",
       "</tr>\n",
       "<tr>\n",
       "  <th>const</th>    <td>   11.9379</td> <td>    0.161</td> <td>   74.377</td> <td> 0.000</td> <td>   11.621</td> <td>   12.255</td>\n",
       "</tr>\n",
       "<tr>\n",
       "  <th>gender_M</th> <td>    0.0989</td> <td>    0.031</td> <td>    3.226</td> <td> 0.002</td> <td>    0.038</td> <td>    0.159</td>\n",
       "</tr>\n",
       "<tr>\n",
       "  <th>mba_p</th>    <td>    0.0079</td> <td>    0.002</td> <td>    3.212</td> <td> 0.002</td> <td>    0.003</td> <td>    0.013</td>\n",
       "</tr>\n",
       "</table>\n",
       "<table class=\"simpletable\">\n",
       "<tr>\n",
       "  <th>Omnibus:</th>       <td> 4.828</td> <th>  Durbin-Watson:     </th> <td>   1.871</td>\n",
       "</tr>\n",
       "<tr>\n",
       "  <th>Prob(Omnibus):</th> <td> 0.089</td> <th>  Jarque-Bera (JB):  </th> <td>   4.661</td>\n",
       "</tr>\n",
       "<tr>\n",
       "  <th>Skew:</th>          <td> 0.447</td> <th>  Prob(JB):          </th> <td>  0.0972</td>\n",
       "</tr>\n",
       "<tr>\n",
       "  <th>Kurtosis:</th>      <td> 3.013</td> <th>  Cond. No.          </th> <td>    719.</td>\n",
       "</tr>\n",
       "</table><br/><br/>Notes:<br/>[1] Standard Errors assume that the covariance matrix of the errors is correctly specified."
      ],
      "text/plain": [
       "<class 'statsmodels.iolib.summary.Summary'>\n",
       "\"\"\"\n",
       "                            OLS Regression Results                            \n",
       "==============================================================================\n",
       "Dep. Variable:             Log_salary   R-squared:                       0.109\n",
       "Model:                            OLS   Adj. R-squared:                  0.096\n",
       "Method:                 Least Squares   F-statistic:                     8.349\n",
       "Date:                Sun, 02 May 2021   Prob (F-statistic):           0.000379\n",
       "Time:                        20:01:44   Log-Likelihood:                 54.142\n",
       "No. Observations:                 140   AIC:                            -102.3\n",
       "Df Residuals:                     137   BIC:                            -93.46\n",
       "Df Model:                           2                                         \n",
       "Covariance Type:            nonrobust                                         \n",
       "==============================================================================\n",
       "                 coef    std err          t      P>|t|      [0.025      0.975]\n",
       "------------------------------------------------------------------------------\n",
       "const         11.9379      0.161     74.377      0.000      11.621      12.255\n",
       "gender_M       0.0989      0.031      3.226      0.002       0.038       0.159\n",
       "mba_p          0.0079      0.002      3.212      0.002       0.003       0.013\n",
       "==============================================================================\n",
       "Omnibus:                        4.828   Durbin-Watson:                   1.871\n",
       "Prob(Omnibus):                  0.089   Jarque-Bera (JB):                4.661\n",
       "Skew:                           0.447   Prob(JB):                       0.0972\n",
       "Kurtosis:                       3.013   Cond. No.                         719.\n",
       "==============================================================================\n",
       "\n",
       "Notes:\n",
       "[1] Standard Errors assume that the covariance matrix of the errors is correctly specified.\n",
       "\"\"\""
      ]
     },
     "execution_count": 110,
     "metadata": {},
     "output_type": "execute_result"
    }
   ],
   "source": [
    "X = reg_data[['gender_M', 'mba_p']]\n",
    "x = sm.add_constant(X) \n",
    "ols = sm.OLS(y, x)\n",
    "results = ols.fit()\n",
    "results.summary()"
   ]
  },
  {
   "cell_type": "markdown",
   "metadata": {},
   "source": [
    "Conlcuimos que la regresión lineal no representa el conjuntos de datos. Además del bajo coeficiente del $R^2$, muchos de los supuesto no se están cumpliendo. El estadístico de Jarque-Bera debería tener un valor cercano a 0 y una probabilidad cercana a 1, sin embargo los valores son `4.661` y `0.0972` respectivamente. Sí que se cumple el supuesto de varianza constante (homocedasticidad) ya que el estadítico de Durbin-Watson se encuentra entre los valores 1.5 y 2.5. Pero, por último, nos encontramos ante multicolinealidad `Cond. No. = 719`."
   ]
  },
  {
   "cell_type": "markdown",
   "metadata": {},
   "source": [
    "Algo que si podemos destacar, es que el modelo predice un 10% de diferencia entre los salarios ofrecidos a los hombres frente a las mujeres. "
   ]
  },
  {
   "cell_type": "markdown",
   "metadata": {},
   "source": [
    "Para mejorar el modelo, se necesitarían mas datos, o mejor, más variables explicativas ya que como vimos en el análisis exploratorio, el salario parecía ser ofrecido de forma aleatoria. Seguramente otras variables que no se están viendo representadas en el dataset explicarian mejor su variabilidad. "
   ]
  },
  {
   "cell_type": "markdown",
   "metadata": {},
   "source": [
    "Ya que el el salario no parece explicarse cn la regresión lineal múltiple y teniendo en cuenta la buena performance de los modelos clasificadores, vamos a ver si actuan de igual forma  como regresores. Para ello, usaremos Support Vector Machine en su versión como regresor `SVR` y un Random Forest, también en su versión como regresor `RandomForestRegressor`. "
   ]
  },
  {
   "cell_type": "markdown",
   "metadata": {},
   "source": [
    "Con los SVM, utilizaremos el método 'Bagging' igual que vimos en clasificación por medio de `BaggingRegresor` para obtener unas predicciones más robustas. Cómo metricas utilizaremos el error cuadrático medio y el error absoluto medio. El error cuadrático es más sensible a errores grandes, y el error absoluto nos permite una mejor interpretación. "
   ]
  },
  {
   "cell_type": "markdown",
   "metadata": {},
   "source": [
    "Tras probar con ambos modelos, SVM y Random Forest, únicamente vamos a mostrar los resultados del último ya que el SVR tenia resultados bastante malos y por el contrario, como veremos ahora, el Random Forest se ajusta bien a los datos. "
   ]
  },
  {
   "cell_type": "code",
   "execution_count": 320,
   "metadata": {},
   "outputs": [],
   "source": [
    "from sklearn.metrics import mean_absolute_error, mean_squared_error\n",
    "from sklearn.ensemble import RandomForestRegressor"
   ]
  },
  {
   "cell_type": "code",
   "execution_count": 331,
   "metadata": {},
   "outputs": [
    {
     "name": "stdout",
     "output_type": "stream",
     "text": [
      "Error medio absoluto: 0.047718052863095044\n",
      "Error cuadrático medio: 0.003999002644698412\n"
     ]
    }
   ],
   "source": [
    "rand_forest = RandomForestRegressor(criterion='mse', n_jobs=-1, random_state=0, warm_start=True)\n",
    "rand_forest.fit(X, y)\n",
    "y_pred_forest = rand_forest.predict(X)\n",
    "print('Error medio absoluto:',mean_absolute_error(y, y_pred_forest))\n",
    "print('Error cuadrático medio:',mean_squared_error(y, y_pred_forest))"
   ]
  },
  {
   "cell_type": "markdown",
   "metadata": {},
   "source": [
    "Aquí observamos la buena actuación del modelo. Ambos errores son cercanos a su valor óptimo (0). Como ya habiamos eliminado los outliers del modelo no hay errores de gran magnitud y eso explica el bajo valor del error cuadrático. De media, nuestro modelo, se desvía un 4.77% de su valor real. "
   ]
  },
  {
   "cell_type": "markdown",
   "metadata": {},
   "source": [
    "Podemos ver representada la distribución de las predicciones y los valores reales, así visualizamos la buena performance del modelo. "
   ]
  },
  {
   "cell_type": "code",
   "execution_count": 332,
   "metadata": {},
   "outputs": [
    {
     "data": {
      "image/png": "[encoded data removed]",
      "text/plain": [
       "<Figure size 432x288 with 1 Axes>"
      ]
     },
     "metadata": {
      "needs_background": "light"
     },
     "output_type": "display_data"
    }
   ],
   "source": [
    "sns.kdeplot(y_pred_forest, label = 'random forest', ls = '--')\n",
    "sns.kdeplot(y, label = 'valores reales')\n",
    "plt.legend();"
   ]
  },
  {
   "cell_type": "markdown",
   "metadata": {},
   "source": [
    "Para ver esta misma distribución, pero con el salario en vez de su logaritmo, simplemente elevamos el número $e$ al valor logarítmico. "
   ]
  },
  {
   "cell_type": "code",
   "execution_count": 333,
   "metadata": {},
   "outputs": [
    {
     "data": {
      "image/png": "[encoded data removed]",
      "text/plain": [
       "<Figure size 432x288 with 1 Axes>"
      ]
     },
     "metadata": {
      "needs_background": "light"
     },
     "output_type": "display_data"
    }
   ],
   "source": [
    "sns.kdeplot(np.e ** y_pred_forest, label = 'random forest', ls = '--')\n",
    "sns.kdeplot(np.e ** y, label = 'valores reales')\n",
    "plt.xlabel('Salario')\n",
    "plt.legend();"
   ]
  },
  {
   "cell_type": "markdown",
   "metadata": {},
   "source": [
    "Vamos a visualizar una pequeña tabla con los valores reales y sus predicciones por el modelo:"
   ]
  },
  {
   "cell_type": "code",
   "execution_count": 345,
   "metadata": {},
   "outputs": [
    {
     "data": {
      "text/html": [
       "<div>\n",
       "<style scoped>\n",
       "    .dataframe tbody tr th:only-of-type {\n",
       "        vertical-align: middle;\n",
       "    }\n",
       "\n",
       "    .dataframe tbody tr th {\n",
       "        vertical-align: top;\n",
       "    }\n",
       "\n",
       "    .dataframe thead th {\n",
       "        text-align: right;\n",
       "    }\n",
       "</style>\n",
       "<table border=\"1\" class=\"dataframe\">\n",
       "  <thead>\n",
       "    <tr style=\"text-align: right;\">\n",
       "      <th></th>\n",
       "      <th>Predicciones</th>\n",
       "      <th>Valores Reales</th>\n",
       "      <th>Diferencia</th>\n",
       "    </tr>\n",
       "  </thead>\n",
       "  <tbody>\n",
       "    <tr>\n",
       "      <th>0</th>\n",
       "      <td>266288.818984</td>\n",
       "      <td>270000.0</td>\n",
       "      <td>-3711.181016</td>\n",
       "    </tr>\n",
       "    <tr>\n",
       "      <th>1</th>\n",
       "      <td>224902.628553</td>\n",
       "      <td>200000.0</td>\n",
       "      <td>24902.628553</td>\n",
       "    </tr>\n",
       "    <tr>\n",
       "      <th>2</th>\n",
       "      <td>256655.858180</td>\n",
       "      <td>250000.0</td>\n",
       "      <td>6655.858180</td>\n",
       "    </tr>\n",
       "    <tr>\n",
       "      <th>3</th>\n",
       "      <td>261267.646151</td>\n",
       "      <td>252000.0</td>\n",
       "      <td>9267.646151</td>\n",
       "    </tr>\n",
       "    <tr>\n",
       "      <th>4</th>\n",
       "      <td>249378.552127</td>\n",
       "      <td>231000.0</td>\n",
       "      <td>18378.552127</td>\n",
       "    </tr>\n",
       "    <tr>\n",
       "      <th>...</th>\n",
       "      <td>...</td>\n",
       "      <td>...</td>\n",
       "      <td>...</td>\n",
       "    </tr>\n",
       "    <tr>\n",
       "      <th>135</th>\n",
       "      <td>225300.356463</td>\n",
       "      <td>216000.0</td>\n",
       "      <td>9300.356463</td>\n",
       "    </tr>\n",
       "    <tr>\n",
       "      <th>136</th>\n",
       "      <td>372547.755294</td>\n",
       "      <td>400000.0</td>\n",
       "      <td>-27452.244706</td>\n",
       "    </tr>\n",
       "    <tr>\n",
       "      <th>137</th>\n",
       "      <td>270909.339589</td>\n",
       "      <td>275000.0</td>\n",
       "      <td>-4090.660411</td>\n",
       "    </tr>\n",
       "    <tr>\n",
       "      <th>138</th>\n",
       "      <td>277846.041019</td>\n",
       "      <td>295000.0</td>\n",
       "      <td>-17153.958981</td>\n",
       "    </tr>\n",
       "    <tr>\n",
       "      <th>139</th>\n",
       "      <td>214946.370245</td>\n",
       "      <td>204000.0</td>\n",
       "      <td>10946.370245</td>\n",
       "    </tr>\n",
       "  </tbody>\n",
       "</table>\n",
       "<p>140 rows × 3 columns</p>\n",
       "</div>"
      ],
      "text/plain": [
       "      Predicciones  Valores Reales    Diferencia\n",
       "0    266288.818984        270000.0  -3711.181016\n",
       "1    224902.628553        200000.0  24902.628553\n",
       "2    256655.858180        250000.0   6655.858180\n",
       "3    261267.646151        252000.0   9267.646151\n",
       "4    249378.552127        231000.0  18378.552127\n",
       "..             ...             ...           ...\n",
       "135  225300.356463        216000.0   9300.356463\n",
       "136  372547.755294        400000.0 -27452.244706\n",
       "137  270909.339589        275000.0  -4090.660411\n",
       "138  277846.041019        295000.0 -17153.958981\n",
       "139  214946.370245        204000.0  10946.370245\n",
       "\n",
       "[140 rows x 3 columns]"
      ]
     },
     "execution_count": 345,
     "metadata": {},
     "output_type": "execute_result"
    }
   ],
   "source": [
    "data = {'Predicciones':np.e**y_pred_forest, 'Valores Reales':np.e**y, 'Diferencia':np.e**y_pred_forest-np.e**y}\n",
    "pd.DataFrame(data)"
   ]
  }
 ],
 "metadata": {
  "colab": {
   "collapsed_sections": [
    "FFMHZdoq6p-R",
    "uVxuhZ1D5F2q",
    "yG7EmDJx6yiP",
    "573cuIEbDs0a",
    "j4pSe0tyKBop",
    "Ocy3WUffKR74",
    "B9t-zEBq95-w"
   ],
   "name": "Copy of Codigo",
   "provenance": []
  },
  "kernelspec": {
   "display_name": "Python 3",
   "language": "python",
   "name": "python3"
  },
  "language_info": {
   "codemirror_mode": {
    "name": "ipython",
    "version": 3
   },
   "file_extension": ".py",
   "mimetype": "text/x-python",
   "name": "python",
   "nbconvert_exporter": "python",
   "pygments_lexer": "ipython3",
   "version": "3.8.5"
  }
 },
 "nbformat": 4,
 "nbformat_minor": 4
}
